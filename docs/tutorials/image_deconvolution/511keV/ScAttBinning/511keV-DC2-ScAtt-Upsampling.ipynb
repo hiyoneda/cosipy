{
 "cells": [
  {
   "cell_type": "markdown",
   "id": "0d44413a",
   "metadata": {},
   "source": [
    "# DC2 Image Analysis, 511keV, Upsampling\n",
    "\n",
    "updated on 2024-07-02 (the commit 1d5cb62597aab7598a0c92ded2d0c381aaa3fd10)\n",
    "\n",
    "This notebook explains image reconstruction using the pixel resolution of the model map finer than that of the response matrix.\n",
    "\n",
    "Note that this notebook is advanced. It is assumed that you have already performed the two notebooks (511keV-DC2-ScAtt-DataReduction.ipynb, 511keV-DC2-ScAtt-ImageDeconvolution.ipynb).\n",
    "\n",
    "## Point\n",
    "\n",
    "In the current implementation, the pixel size of the model map can be differnt from that of the response matrix. The model pixel size is used in the following instances:\n",
    "\n",
    "- coordsys_conv_matrix\n",
    "- image_deconvolution\n",
    "\n",
    "Thus, make sure that NSIDE in these instances must be the same. In this notebook, I present the case with NSIDE = 32 in the model map.\n",
    "\n",
    "When we convert the model map in the galactic coordinate to the detector coordinate, the pixel size will be downscaled so as the converted model map has the same pixel resolution matching the detector response.\n",
    "Thus, using finer resolution in the model space does not improve the angular resolution in principle, while the reconstructed image will be smoother.\n",
    "\n",
    "There are three different NSIDE defined in the analysis:\n",
    "\n",
    "- NSIDE for the pixel resolution of the model (coordsys_conv_matrix, image_deconvolution)\n",
    "- NSIDE for the pixel resolution of the response/data/background CDS (full_detector_response, inputs_511keV_DC2.yaml)\n",
    "- NSIDE for the pixel resolution of the spacecraftattitude binning (exposure_table)\n",
    "\n",
    "Normally, these three values are set equal, but in principle they can be different."
   ]
  },
  {
   "cell_type": "code",
   "execution_count": 1,
   "id": "f48d25bb-34eb-44c7-bb44-8fb66c44b148",
   "metadata": {},
   "outputs": [],
   "source": [
    "import logging\n",
    "import sys\n",
    "logger = logging.getLogger('cosipy')\n",
    "logger.setLevel(logging.INFO)\n",
    "logger.addHandler(logging.StreamHandler(sys.stdout))"
   ]
  },
  {
   "cell_type": "code",
   "execution_count": 2,
   "id": "e3bb550f",
   "metadata": {
    "scrolled": true
   },
   "outputs": [
    {
     "name": "stderr",
     "output_type": "stream",
     "text": [
      "\n",
      "WARNING: version mismatch between CFITSIO header (v4) and linked library (v4.01).\n",
      "\n"
     ]
    },
    {
     "name": "stdout",
     "output_type": "stream",
     "text": [
      "Welcome to JupyROOT 6.24/06\n"
     ]
    },
    {
     "data": {
      "text/html": [
       "<pre style=\"white-space:pre;overflow-x:auto;line-height:normal;font-family:Menlo,'DejaVu Sans Mono',consolas,'Courier New',monospace\"><span style=\"color: #00ff00; text-decoration-color: #00ff00\">15:00:14 </span><span style=\"color: #af5fd7; text-decoration-color: #af5fd7\">WARNING </span> <span style=\"color: #c6c6c6; text-decoration-color: #c6c6c6; font-weight: bold\"> The naima package is not available. Models that depend on it will not be         </span><a href=\"file:///Users/yoneda/Work/Exp/COSI/cosipy-2/cosipy-2-venv/lib/python3.10/site-packages/astromodels/functions/functions_1D/functions.py\" target=\"_blank\"><span style=\"color: #7f7f7f; text-decoration-color: #7f7f7f\">functions.py</span></a><span style=\"color: #7f7f7f; text-decoration-color: #7f7f7f\">:</span><a href=\"file:///Users/yoneda/Work/Exp/COSI/cosipy-2/cosipy-2-venv/lib/python3.10/site-packages/astromodels/functions/functions_1D/functions.py#48\" target=\"_blank\"><span style=\"color: #7f7f7f; text-decoration-color: #7f7f7f\">48</span></a>\n",
       "<span style=\"color: #00ff00; text-decoration-color: #00ff00\">         </span>         <span style=\"color: #c6c6c6; text-decoration-color: #c6c6c6; font-weight: bold\">available                                                                         </span><span style=\"color: #7f7f7f; text-decoration-color: #7f7f7f\">               </span>\n",
       "</pre>\n"
      ],
      "text/plain": [
       "\u001b[38;5;46m15:00:14\u001b[0m\u001b[38;5;46m \u001b[0m\u001b[38;5;134mWARNING \u001b[0m \u001b[1;38;5;251m The naima package is not available. Models that depend on it will not be        \u001b[0m\u001b[1;38;5;251m \u001b[0m\u001b]8;id=934100;file:///Users/yoneda/Work/Exp/COSI/cosipy-2/cosipy-2-venv/lib/python3.10/site-packages/astromodels/functions/functions_1D/functions.py\u001b\\\u001b[2mfunctions.py\u001b[0m\u001b]8;;\u001b\\\u001b[2m:\u001b[0m\u001b]8;id=513436;file:///Users/yoneda/Work/Exp/COSI/cosipy-2/cosipy-2-venv/lib/python3.10/site-packages/astromodels/functions/functions_1D/functions.py#48\u001b\\\u001b[2m48\u001b[0m\u001b]8;;\u001b\\\n",
       "\u001b[38;5;46m         \u001b[0m         \u001b[1;38;5;251mavailable                                                                        \u001b[0m\u001b[1;38;5;251m \u001b[0m\u001b[2m               \u001b[0m\n"
      ]
     },
     "metadata": {},
     "output_type": "display_data"
    },
    {
     "data": {
      "text/html": [
       "<pre style=\"white-space:pre;overflow-x:auto;line-height:normal;font-family:Menlo,'DejaVu Sans Mono',consolas,'Courier New',monospace\"><span style=\"color: #00ff00; text-decoration-color: #00ff00\">         </span><span style=\"color: #af5fd7; text-decoration-color: #af5fd7\">WARNING </span> <span style=\"color: #c6c6c6; text-decoration-color: #c6c6c6; font-weight: bold\"> The GSL library or the pygsl wrapper cannot be loaded. Models that depend on it  </span><a href=\"file:///Users/yoneda/Work/Exp/COSI/cosipy-2/cosipy-2-venv/lib/python3.10/site-packages/astromodels/functions/functions_1D/functions.py\" target=\"_blank\"><span style=\"color: #7f7f7f; text-decoration-color: #7f7f7f\">functions.py</span></a><span style=\"color: #7f7f7f; text-decoration-color: #7f7f7f\">:</span><a href=\"file:///Users/yoneda/Work/Exp/COSI/cosipy-2/cosipy-2-venv/lib/python3.10/site-packages/astromodels/functions/functions_1D/functions.py#69\" target=\"_blank\"><span style=\"color: #7f7f7f; text-decoration-color: #7f7f7f\">69</span></a>\n",
       "<span style=\"color: #00ff00; text-decoration-color: #00ff00\">         </span>         <span style=\"color: #c6c6c6; text-decoration-color: #c6c6c6; font-weight: bold\">will not be available.                                                            </span><span style=\"color: #7f7f7f; text-decoration-color: #7f7f7f\">               </span>\n",
       "</pre>\n"
      ],
      "text/plain": [
       "\u001b[38;5;46m        \u001b[0m\u001b[38;5;46m \u001b[0m\u001b[38;5;134mWARNING \u001b[0m \u001b[1;38;5;251m The GSL library or the pygsl wrapper cannot be loaded. Models that depend on it \u001b[0m\u001b[1;38;5;251m \u001b[0m\u001b]8;id=907410;file:///Users/yoneda/Work/Exp/COSI/cosipy-2/cosipy-2-venv/lib/python3.10/site-packages/astromodels/functions/functions_1D/functions.py\u001b\\\u001b[2mfunctions.py\u001b[0m\u001b]8;;\u001b\\\u001b[2m:\u001b[0m\u001b]8;id=255635;file:///Users/yoneda/Work/Exp/COSI/cosipy-2/cosipy-2-venv/lib/python3.10/site-packages/astromodels/functions/functions_1D/functions.py#69\u001b\\\u001b[2m69\u001b[0m\u001b]8;;\u001b\\\n",
       "\u001b[38;5;46m         \u001b[0m         \u001b[1;38;5;251mwill not be available.                                                           \u001b[0m\u001b[1;38;5;251m \u001b[0m\u001b[2m               \u001b[0m\n"
      ]
     },
     "metadata": {},
     "output_type": "display_data"
    },
    {
     "data": {
      "text/html": [
       "<pre style=\"white-space:pre;overflow-x:auto;line-height:normal;font-family:Menlo,'DejaVu Sans Mono',consolas,'Courier New',monospace\"><span style=\"color: #00ff00; text-decoration-color: #00ff00\">         </span><span style=\"color: #af5fd7; text-decoration-color: #af5fd7\">WARNING </span> <span style=\"color: #c6c6c6; text-decoration-color: #c6c6c6; font-weight: bold\"> The ebltable package is not available. Models that depend on it will not be     </span><a href=\"file:///Users/yoneda/Work/Exp/COSI/cosipy-2/cosipy-2-venv/lib/python3.10/site-packages/astromodels/functions/functions_1D/absorption.py\" target=\"_blank\"><span style=\"color: #7f7f7f; text-decoration-color: #7f7f7f\">absorption.py</span></a><span style=\"color: #7f7f7f; text-decoration-color: #7f7f7f\">:</span><a href=\"file:///Users/yoneda/Work/Exp/COSI/cosipy-2/cosipy-2-venv/lib/python3.10/site-packages/astromodels/functions/functions_1D/absorption.py#36\" target=\"_blank\"><span style=\"color: #7f7f7f; text-decoration-color: #7f7f7f\">36</span></a>\n",
       "<span style=\"color: #00ff00; text-decoration-color: #00ff00\">         </span>         <span style=\"color: #c6c6c6; text-decoration-color: #c6c6c6; font-weight: bold\">available                                                                        </span><span style=\"color: #7f7f7f; text-decoration-color: #7f7f7f\">                </span>\n",
       "</pre>\n"
      ],
      "text/plain": [
       "\u001b[38;5;46m        \u001b[0m\u001b[38;5;46m \u001b[0m\u001b[38;5;134mWARNING \u001b[0m \u001b[1;38;5;251m The ebltable package is not available. Models that depend on it will not be    \u001b[0m\u001b[1;38;5;251m \u001b[0m\u001b]8;id=304315;file:///Users/yoneda/Work/Exp/COSI/cosipy-2/cosipy-2-venv/lib/python3.10/site-packages/astromodels/functions/functions_1D/absorption.py\u001b\\\u001b[2mabsorption.py\u001b[0m\u001b]8;;\u001b\\\u001b[2m:\u001b[0m\u001b]8;id=626162;file:///Users/yoneda/Work/Exp/COSI/cosipy-2/cosipy-2-venv/lib/python3.10/site-packages/astromodels/functions/functions_1D/absorption.py#36\u001b\\\u001b[2m36\u001b[0m\u001b]8;;\u001b\\\n",
       "\u001b[38;5;46m         \u001b[0m         \u001b[1;38;5;251mavailable                                                                       \u001b[0m\u001b[1;38;5;251m \u001b[0m\u001b[2m                \u001b[0m\n"
      ]
     },
     "metadata": {},
     "output_type": "display_data"
    },
    {
     "data": {
      "text/html": [
       "<pre style=\"white-space:pre;overflow-x:auto;line-height:normal;font-family:Menlo,'DejaVu Sans Mono',consolas,'Courier New',monospace\"><span style=\"color: #00ff00; text-decoration-color: #00ff00\">         </span><span style=\"color: #af5fd7; text-decoration-color: #af5fd7\">WARNING </span> <span style=\"color: #c6c6c6; text-decoration-color: #c6c6c6; font-weight: bold\"> We have set the min_value of K to </span><span style=\"color: #c0c0c0; text-decoration-color: #c0c0c0; font-weight: bold\">1e-99</span><span style=\"color: #c6c6c6; text-decoration-color: #c6c6c6; font-weight: bold\"> because there was a postive transform   </span><a href=\"file:///Users/yoneda/Work/Exp/COSI/cosipy-2/cosipy-2-venv/lib/python3.10/site-packages/astromodels/core/parameter.py\" target=\"_blank\"><span style=\"color: #7f7f7f; text-decoration-color: #7f7f7f\">parameter.py</span></a><span style=\"color: #7f7f7f; text-decoration-color: #7f7f7f\">:</span><a href=\"file:///Users/yoneda/Work/Exp/COSI/cosipy-2/cosipy-2-venv/lib/python3.10/site-packages/astromodels/core/parameter.py#704\" target=\"_blank\"><span style=\"color: #7f7f7f; text-decoration-color: #7f7f7f\">704</span></a>\n",
       "</pre>\n"
      ],
      "text/plain": [
       "\u001b[38;5;46m        \u001b[0m\u001b[38;5;46m \u001b[0m\u001b[38;5;134mWARNING \u001b[0m \u001b[1;38;5;251m We have set the min_value of K to \u001b[0m\u001b[1;37m1e-99\u001b[0m\u001b[1;38;5;251m because there was a postive transform  \u001b[0m\u001b[1;38;5;251m \u001b[0m\u001b]8;id=166444;file:///Users/yoneda/Work/Exp/COSI/cosipy-2/cosipy-2-venv/lib/python3.10/site-packages/astromodels/core/parameter.py\u001b\\\u001b[2mparameter.py\u001b[0m\u001b]8;;\u001b\\\u001b[2m:\u001b[0m\u001b]8;id=748539;file:///Users/yoneda/Work/Exp/COSI/cosipy-2/cosipy-2-venv/lib/python3.10/site-packages/astromodels/core/parameter.py#704\u001b\\\u001b[2m704\u001b[0m\u001b]8;;\u001b\\\n"
      ]
     },
     "metadata": {},
     "output_type": "display_data"
    },
    {
     "data": {
      "text/html": [
       "<pre style=\"white-space:pre;overflow-x:auto;line-height:normal;font-family:Menlo,'DejaVu Sans Mono',consolas,'Courier New',monospace\"><span style=\"color: #00ff00; text-decoration-color: #00ff00\">         </span><span style=\"color: #af5fd7; text-decoration-color: #af5fd7\">WARNING </span> <span style=\"color: #c6c6c6; text-decoration-color: #c6c6c6; font-weight: bold\"> We have set the min_value of K to </span><span style=\"color: #c0c0c0; text-decoration-color: #c0c0c0; font-weight: bold\">1e-99</span><span style=\"color: #c6c6c6; text-decoration-color: #c6c6c6; font-weight: bold\"> because there was a postive transform   </span><a href=\"file:///Users/yoneda/Work/Exp/COSI/cosipy-2/cosipy-2-venv/lib/python3.10/site-packages/astromodels/core/parameter.py\" target=\"_blank\"><span style=\"color: #7f7f7f; text-decoration-color: #7f7f7f\">parameter.py</span></a><span style=\"color: #7f7f7f; text-decoration-color: #7f7f7f\">:</span><a href=\"file:///Users/yoneda/Work/Exp/COSI/cosipy-2/cosipy-2-venv/lib/python3.10/site-packages/astromodels/core/parameter.py#704\" target=\"_blank\"><span style=\"color: #7f7f7f; text-decoration-color: #7f7f7f\">704</span></a>\n",
       "</pre>\n"
      ],
      "text/plain": [
       "\u001b[38;5;46m        \u001b[0m\u001b[38;5;46m \u001b[0m\u001b[38;5;134mWARNING \u001b[0m \u001b[1;38;5;251m We have set the min_value of K to \u001b[0m\u001b[1;37m1e-99\u001b[0m\u001b[1;38;5;251m because there was a postive transform  \u001b[0m\u001b[1;38;5;251m \u001b[0m\u001b]8;id=897612;file:///Users/yoneda/Work/Exp/COSI/cosipy-2/cosipy-2-venv/lib/python3.10/site-packages/astromodels/core/parameter.py\u001b\\\u001b[2mparameter.py\u001b[0m\u001b]8;;\u001b\\\u001b[2m:\u001b[0m\u001b]8;id=484561;file:///Users/yoneda/Work/Exp/COSI/cosipy-2/cosipy-2-venv/lib/python3.10/site-packages/astromodels/core/parameter.py#704\u001b\\\u001b[2m704\u001b[0m\u001b]8;;\u001b\\\n"
      ]
     },
     "metadata": {},
     "output_type": "display_data"
    },
    {
     "data": {
      "text/html": [
       "<pre style=\"white-space:pre;overflow-x:auto;line-height:normal;font-family:Menlo,'DejaVu Sans Mono',consolas,'Courier New',monospace\"><span style=\"color: #00ff00; text-decoration-color: #00ff00\">         </span><span style=\"color: #af5fd7; text-decoration-color: #af5fd7\">WARNING </span> <span style=\"color: #c6c6c6; text-decoration-color: #c6c6c6; font-weight: bold\"> We have set the min_value of K to </span><span style=\"color: #c0c0c0; text-decoration-color: #c0c0c0; font-weight: bold\">1e-99</span><span style=\"color: #c6c6c6; text-decoration-color: #c6c6c6; font-weight: bold\"> because there was a postive transform   </span><a href=\"file:///Users/yoneda/Work/Exp/COSI/cosipy-2/cosipy-2-venv/lib/python3.10/site-packages/astromodels/core/parameter.py\" target=\"_blank\"><span style=\"color: #7f7f7f; text-decoration-color: #7f7f7f\">parameter.py</span></a><span style=\"color: #7f7f7f; text-decoration-color: #7f7f7f\">:</span><a href=\"file:///Users/yoneda/Work/Exp/COSI/cosipy-2/cosipy-2-venv/lib/python3.10/site-packages/astromodels/core/parameter.py#704\" target=\"_blank\"><span style=\"color: #7f7f7f; text-decoration-color: #7f7f7f\">704</span></a>\n",
       "</pre>\n"
      ],
      "text/plain": [
       "\u001b[38;5;46m        \u001b[0m\u001b[38;5;46m \u001b[0m\u001b[38;5;134mWARNING \u001b[0m \u001b[1;38;5;251m We have set the min_value of K to \u001b[0m\u001b[1;37m1e-99\u001b[0m\u001b[1;38;5;251m because there was a postive transform  \u001b[0m\u001b[1;38;5;251m \u001b[0m\u001b]8;id=645185;file:///Users/yoneda/Work/Exp/COSI/cosipy-2/cosipy-2-venv/lib/python3.10/site-packages/astromodels/core/parameter.py\u001b\\\u001b[2mparameter.py\u001b[0m\u001b]8;;\u001b\\\u001b[2m:\u001b[0m\u001b]8;id=945506;file:///Users/yoneda/Work/Exp/COSI/cosipy-2/cosipy-2-venv/lib/python3.10/site-packages/astromodels/core/parameter.py#704\u001b\\\u001b[2m704\u001b[0m\u001b]8;;\u001b\\\n"
      ]
     },
     "metadata": {},
     "output_type": "display_data"
    },
    {
     "data": {
      "text/html": [
       "<pre style=\"white-space:pre;overflow-x:auto;line-height:normal;font-family:Menlo,'DejaVu Sans Mono',consolas,'Courier New',monospace\"><span style=\"color: #00ff00; text-decoration-color: #00ff00\">         </span><span style=\"color: #af5fd7; text-decoration-color: #af5fd7\">WARNING </span> <span style=\"color: #c6c6c6; text-decoration-color: #c6c6c6; font-weight: bold\"> We have set the min_value of K to </span><span style=\"color: #c0c0c0; text-decoration-color: #c0c0c0; font-weight: bold\">1e-99</span><span style=\"color: #c6c6c6; text-decoration-color: #c6c6c6; font-weight: bold\"> because there was a postive transform   </span><a href=\"file:///Users/yoneda/Work/Exp/COSI/cosipy-2/cosipy-2-venv/lib/python3.10/site-packages/astromodels/core/parameter.py\" target=\"_blank\"><span style=\"color: #7f7f7f; text-decoration-color: #7f7f7f\">parameter.py</span></a><span style=\"color: #7f7f7f; text-decoration-color: #7f7f7f\">:</span><a href=\"file:///Users/yoneda/Work/Exp/COSI/cosipy-2/cosipy-2-venv/lib/python3.10/site-packages/astromodels/core/parameter.py#704\" target=\"_blank\"><span style=\"color: #7f7f7f; text-decoration-color: #7f7f7f\">704</span></a>\n",
       "</pre>\n"
      ],
      "text/plain": [
       "\u001b[38;5;46m        \u001b[0m\u001b[38;5;46m \u001b[0m\u001b[38;5;134mWARNING \u001b[0m \u001b[1;38;5;251m We have set the min_value of K to \u001b[0m\u001b[1;37m1e-99\u001b[0m\u001b[1;38;5;251m because there was a postive transform  \u001b[0m\u001b[1;38;5;251m \u001b[0m\u001b]8;id=262964;file:///Users/yoneda/Work/Exp/COSI/cosipy-2/cosipy-2-venv/lib/python3.10/site-packages/astromodels/core/parameter.py\u001b\\\u001b[2mparameter.py\u001b[0m\u001b]8;;\u001b\\\u001b[2m:\u001b[0m\u001b]8;id=71935;file:///Users/yoneda/Work/Exp/COSI/cosipy-2/cosipy-2-venv/lib/python3.10/site-packages/astromodels/core/parameter.py#704\u001b\\\u001b[2m704\u001b[0m\u001b]8;;\u001b\\\n"
      ]
     },
     "metadata": {},
     "output_type": "display_data"
    },
    {
     "data": {
      "text/html": [
       "<pre style=\"white-space:pre;overflow-x:auto;line-height:normal;font-family:Menlo,'DejaVu Sans Mono',consolas,'Courier New',monospace\"><span style=\"color: #00ff00; text-decoration-color: #00ff00\">         </span><span style=\"color: #af5fd7; text-decoration-color: #af5fd7\">WARNING </span> <span style=\"color: #c6c6c6; text-decoration-color: #c6c6c6; font-weight: bold\"> We have set the min_value of F to </span><span style=\"color: #c0c0c0; text-decoration-color: #c0c0c0; font-weight: bold\">1e-99</span><span style=\"color: #c6c6c6; text-decoration-color: #c6c6c6; font-weight: bold\"> because there was a postive transform   </span><a href=\"file:///Users/yoneda/Work/Exp/COSI/cosipy-2/cosipy-2-venv/lib/python3.10/site-packages/astromodels/core/parameter.py\" target=\"_blank\"><span style=\"color: #7f7f7f; text-decoration-color: #7f7f7f\">parameter.py</span></a><span style=\"color: #7f7f7f; text-decoration-color: #7f7f7f\">:</span><a href=\"file:///Users/yoneda/Work/Exp/COSI/cosipy-2/cosipy-2-venv/lib/python3.10/site-packages/astromodels/core/parameter.py#704\" target=\"_blank\"><span style=\"color: #7f7f7f; text-decoration-color: #7f7f7f\">704</span></a>\n",
       "</pre>\n"
      ],
      "text/plain": [
       "\u001b[38;5;46m        \u001b[0m\u001b[38;5;46m \u001b[0m\u001b[38;5;134mWARNING \u001b[0m \u001b[1;38;5;251m We have set the min_value of F to \u001b[0m\u001b[1;37m1e-99\u001b[0m\u001b[1;38;5;251m because there was a postive transform  \u001b[0m\u001b[1;38;5;251m \u001b[0m\u001b]8;id=726685;file:///Users/yoneda/Work/Exp/COSI/cosipy-2/cosipy-2-venv/lib/python3.10/site-packages/astromodels/core/parameter.py\u001b\\\u001b[2mparameter.py\u001b[0m\u001b]8;;\u001b\\\u001b[2m:\u001b[0m\u001b]8;id=183637;file:///Users/yoneda/Work/Exp/COSI/cosipy-2/cosipy-2-venv/lib/python3.10/site-packages/astromodels/core/parameter.py#704\u001b\\\u001b[2m704\u001b[0m\u001b]8;;\u001b\\\n"
      ]
     },
     "metadata": {},
     "output_type": "display_data"
    },
    {
     "data": {
      "text/html": [
       "<pre style=\"white-space:pre;overflow-x:auto;line-height:normal;font-family:Menlo,'DejaVu Sans Mono',consolas,'Courier New',monospace\"><span style=\"color: #00ff00; text-decoration-color: #00ff00\">         </span><span style=\"color: #af5fd7; text-decoration-color: #af5fd7\">WARNING </span> <span style=\"color: #c6c6c6; text-decoration-color: #c6c6c6; font-weight: bold\"> We have set the min_value of K to </span><span style=\"color: #c0c0c0; text-decoration-color: #c0c0c0; font-weight: bold\">1e-99</span><span style=\"color: #c6c6c6; text-decoration-color: #c6c6c6; font-weight: bold\"> because there was a postive transform   </span><a href=\"file:///Users/yoneda/Work/Exp/COSI/cosipy-2/cosipy-2-venv/lib/python3.10/site-packages/astromodels/core/parameter.py\" target=\"_blank\"><span style=\"color: #7f7f7f; text-decoration-color: #7f7f7f\">parameter.py</span></a><span style=\"color: #7f7f7f; text-decoration-color: #7f7f7f\">:</span><a href=\"file:///Users/yoneda/Work/Exp/COSI/cosipy-2/cosipy-2-venv/lib/python3.10/site-packages/astromodels/core/parameter.py#704\" target=\"_blank\"><span style=\"color: #7f7f7f; text-decoration-color: #7f7f7f\">704</span></a>\n",
       "</pre>\n"
      ],
      "text/plain": [
       "\u001b[38;5;46m        \u001b[0m\u001b[38;5;46m \u001b[0m\u001b[38;5;134mWARNING \u001b[0m \u001b[1;38;5;251m We have set the min_value of K to \u001b[0m\u001b[1;37m1e-99\u001b[0m\u001b[1;38;5;251m because there was a postive transform  \u001b[0m\u001b[1;38;5;251m \u001b[0m\u001b]8;id=999075;file:///Users/yoneda/Work/Exp/COSI/cosipy-2/cosipy-2-venv/lib/python3.10/site-packages/astromodels/core/parameter.py\u001b\\\u001b[2mparameter.py\u001b[0m\u001b]8;;\u001b\\\u001b[2m:\u001b[0m\u001b]8;id=222546;file:///Users/yoneda/Work/Exp/COSI/cosipy-2/cosipy-2-venv/lib/python3.10/site-packages/astromodels/core/parameter.py#704\u001b\\\u001b[2m704\u001b[0m\u001b]8;;\u001b\\\n"
      ]
     },
     "metadata": {},
     "output_type": "display_data"
    },
    {
     "data": {
      "text/html": [
       "<pre style=\"white-space:pre;overflow-x:auto;line-height:normal;font-family:Menlo,'DejaVu Sans Mono',consolas,'Courier New',monospace\"><span style=\"color: #00ff00; text-decoration-color: #00ff00\">15:00:14 </span><span style=\"color: #00ffaf; text-decoration-color: #00ffaf\">INFO    </span> <span style=\"color: #c6c6c6; text-decoration-color: #c6c6c6; font-weight: bold\"> Starting 3ML!                                                                     </span><a href=\"file:///Users/yoneda/Work/Exp/COSI/cosipy-2/cosipy-2-venv/lib/python3.10/site-packages/threeML/__init__.py\" target=\"_blank\"><span style=\"color: #7f7f7f; text-decoration-color: #7f7f7f\">__init__.py</span></a><span style=\"color: #7f7f7f; text-decoration-color: #7f7f7f\">:</span><a href=\"file:///Users/yoneda/Work/Exp/COSI/cosipy-2/cosipy-2-venv/lib/python3.10/site-packages/threeML/__init__.py#35\" target=\"_blank\"><span style=\"color: #7f7f7f; text-decoration-color: #7f7f7f\">35</span></a>\n",
       "</pre>\n"
      ],
      "text/plain": [
       "\u001b[38;5;46m15:00:14\u001b[0m\u001b[38;5;46m \u001b[0m\u001b[38;5;49mINFO    \u001b[0m \u001b[1;38;5;251m Starting 3ML!                                                                    \u001b[0m\u001b[1;38;5;251m \u001b[0m\u001b]8;id=794170;file:///Users/yoneda/Work/Exp/COSI/cosipy-2/cosipy-2-venv/lib/python3.10/site-packages/threeML/__init__.py\u001b\\\u001b[2m__init__.py\u001b[0m\u001b]8;;\u001b\\\u001b[2m:\u001b[0m\u001b]8;id=933819;file:///Users/yoneda/Work/Exp/COSI/cosipy-2/cosipy-2-venv/lib/python3.10/site-packages/threeML/__init__.py#35\u001b\\\u001b[2m35\u001b[0m\u001b]8;;\u001b\\\n"
      ]
     },
     "metadata": {},
     "output_type": "display_data"
    },
    {
     "data": {
      "text/html": [
       "<pre style=\"white-space:pre;overflow-x:auto;line-height:normal;font-family:Menlo,'DejaVu Sans Mono',consolas,'Courier New',monospace\"><span style=\"color: #00ff00; text-decoration-color: #00ff00\">         </span><span style=\"color: #af5fd7; text-decoration-color: #af5fd7\">WARNING </span> <span style=\"color: #c6c6c6; text-decoration-color: #c6c6c6; font-weight: bold\"> WARNINGs here are </span><span style=\"color: #800000; text-decoration-color: #800000; font-weight: bold\">NOT</span><span style=\"color: #c6c6c6; text-decoration-color: #c6c6c6; font-weight: bold\"> errors                                                      </span><a href=\"file:///Users/yoneda/Work/Exp/COSI/cosipy-2/cosipy-2-venv/lib/python3.10/site-packages/threeML/__init__.py\" target=\"_blank\"><span style=\"color: #7f7f7f; text-decoration-color: #7f7f7f\">__init__.py</span></a><span style=\"color: #7f7f7f; text-decoration-color: #7f7f7f\">:</span><a href=\"file:///Users/yoneda/Work/Exp/COSI/cosipy-2/cosipy-2-venv/lib/python3.10/site-packages/threeML/__init__.py#36\" target=\"_blank\"><span style=\"color: #7f7f7f; text-decoration-color: #7f7f7f\">36</span></a>\n",
       "</pre>\n"
      ],
      "text/plain": [
       "\u001b[38;5;46m        \u001b[0m\u001b[38;5;46m \u001b[0m\u001b[38;5;134mWARNING \u001b[0m \u001b[1;38;5;251m WARNINGs here are \u001b[0m\u001b[1;31mNOT\u001b[0m\u001b[1;38;5;251m errors                                                     \u001b[0m\u001b[1;38;5;251m \u001b[0m\u001b]8;id=707261;file:///Users/yoneda/Work/Exp/COSI/cosipy-2/cosipy-2-venv/lib/python3.10/site-packages/threeML/__init__.py\u001b\\\u001b[2m__init__.py\u001b[0m\u001b]8;;\u001b\\\u001b[2m:\u001b[0m\u001b]8;id=781548;file:///Users/yoneda/Work/Exp/COSI/cosipy-2/cosipy-2-venv/lib/python3.10/site-packages/threeML/__init__.py#36\u001b\\\u001b[2m36\u001b[0m\u001b]8;;\u001b\\\n"
      ]
     },
     "metadata": {},
     "output_type": "display_data"
    },
    {
     "data": {
      "text/html": [
       "<pre style=\"white-space:pre;overflow-x:auto;line-height:normal;font-family:Menlo,'DejaVu Sans Mono',consolas,'Courier New',monospace\"><span style=\"color: #00ff00; text-decoration-color: #00ff00\">         </span><span style=\"color: #af5fd7; text-decoration-color: #af5fd7\">WARNING </span> <span style=\"color: #c6c6c6; text-decoration-color: #c6c6c6; font-weight: bold\"> but are inform you about optional packages that can be installed                  </span><a href=\"file:///Users/yoneda/Work/Exp/COSI/cosipy-2/cosipy-2-venv/lib/python3.10/site-packages/threeML/__init__.py\" target=\"_blank\"><span style=\"color: #7f7f7f; text-decoration-color: #7f7f7f\">__init__.py</span></a><span style=\"color: #7f7f7f; text-decoration-color: #7f7f7f\">:</span><a href=\"file:///Users/yoneda/Work/Exp/COSI/cosipy-2/cosipy-2-venv/lib/python3.10/site-packages/threeML/__init__.py#37\" target=\"_blank\"><span style=\"color: #7f7f7f; text-decoration-color: #7f7f7f\">37</span></a>\n",
       "</pre>\n"
      ],
      "text/plain": [
       "\u001b[38;5;46m        \u001b[0m\u001b[38;5;46m \u001b[0m\u001b[38;5;134mWARNING \u001b[0m \u001b[1;38;5;251m but are inform you about optional packages that can be installed                 \u001b[0m\u001b[1;38;5;251m \u001b[0m\u001b]8;id=617756;file:///Users/yoneda/Work/Exp/COSI/cosipy-2/cosipy-2-venv/lib/python3.10/site-packages/threeML/__init__.py\u001b\\\u001b[2m__init__.py\u001b[0m\u001b]8;;\u001b\\\u001b[2m:\u001b[0m\u001b]8;id=467433;file:///Users/yoneda/Work/Exp/COSI/cosipy-2/cosipy-2-venv/lib/python3.10/site-packages/threeML/__init__.py#37\u001b\\\u001b[2m37\u001b[0m\u001b]8;;\u001b\\\n"
      ]
     },
     "metadata": {},
     "output_type": "display_data"
    },
    {
     "data": {
      "text/html": [
       "<pre style=\"white-space:pre;overflow-x:auto;line-height:normal;font-family:Menlo,'DejaVu Sans Mono',consolas,'Courier New',monospace\"><span style=\"color: #00ff00; text-decoration-color: #00ff00\">         </span><span style=\"color: #af5fd7; text-decoration-color: #af5fd7\">WARNING </span> <span style=\"color: #c6c6c6; text-decoration-color: #c6c6c6; font-weight: bold\"> </span><span style=\"color: #800000; text-decoration-color: #800000; font-weight: bold\"> to disable these messages, turn off start_warning in your config file</span><span style=\"color: #c6c6c6; text-decoration-color: #c6c6c6; font-weight: bold\">            </span><a href=\"file:///Users/yoneda/Work/Exp/COSI/cosipy-2/cosipy-2-venv/lib/python3.10/site-packages/threeML/__init__.py\" target=\"_blank\"><span style=\"color: #7f7f7f; text-decoration-color: #7f7f7f\">__init__.py</span></a><span style=\"color: #7f7f7f; text-decoration-color: #7f7f7f\">:</span><a href=\"file:///Users/yoneda/Work/Exp/COSI/cosipy-2/cosipy-2-venv/lib/python3.10/site-packages/threeML/__init__.py#40\" target=\"_blank\"><span style=\"color: #7f7f7f; text-decoration-color: #7f7f7f\">40</span></a>\n",
       "</pre>\n"
      ],
      "text/plain": [
       "\u001b[38;5;46m        \u001b[0m\u001b[38;5;46m \u001b[0m\u001b[38;5;134mWARNING \u001b[0m \u001b[1;38;5;251m \u001b[0m\u001b[1;31m to disable these messages, turn off start_warning in your config file\u001b[0m\u001b[1;38;5;251m           \u001b[0m\u001b[1;38;5;251m \u001b[0m\u001b]8;id=381742;file:///Users/yoneda/Work/Exp/COSI/cosipy-2/cosipy-2-venv/lib/python3.10/site-packages/threeML/__init__.py\u001b\\\u001b[2m__init__.py\u001b[0m\u001b]8;;\u001b\\\u001b[2m:\u001b[0m\u001b]8;id=739903;file:///Users/yoneda/Work/Exp/COSI/cosipy-2/cosipy-2-venv/lib/python3.10/site-packages/threeML/__init__.py#40\u001b\\\u001b[2m40\u001b[0m\u001b]8;;\u001b\\\n"
      ]
     },
     "metadata": {},
     "output_type": "display_data"
    },
    {
     "data": {
      "text/html": [
       "<pre style=\"white-space:pre;overflow-x:auto;line-height:normal;font-family:Menlo,'DejaVu Sans Mono',consolas,'Courier New',monospace\"><span style=\"color: #00ff00; text-decoration-color: #00ff00\">15:00:15 </span><span style=\"color: #af5fd7; text-decoration-color: #af5fd7\">WARNING </span> <span style=\"color: #c6c6c6; text-decoration-color: #c6c6c6; font-weight: bold\"> PyGMO is not available                                                      </span><a href=\"file:///Users/yoneda/Work/Exp/COSI/cosipy-2/cosipy-2-venv/lib/python3.10/site-packages/threeML/minimizer/minimization.py\" target=\"_blank\"><span style=\"color: #7f7f7f; text-decoration-color: #7f7f7f\">minimization.py</span></a><span style=\"color: #7f7f7f; text-decoration-color: #7f7f7f\">:</span><a href=\"file:///Users/yoneda/Work/Exp/COSI/cosipy-2/cosipy-2-venv/lib/python3.10/site-packages/threeML/minimizer/minimization.py#1369\" target=\"_blank\"><span style=\"color: #7f7f7f; text-decoration-color: #7f7f7f\">1369</span></a>\n",
       "</pre>\n"
      ],
      "text/plain": [
       "\u001b[38;5;46m15:00:15\u001b[0m\u001b[38;5;46m \u001b[0m\u001b[38;5;134mWARNING \u001b[0m \u001b[1;38;5;251m PyGMO is not available                                                     \u001b[0m\u001b[1;38;5;251m \u001b[0m\u001b]8;id=859647;file:///Users/yoneda/Work/Exp/COSI/cosipy-2/cosipy-2-venv/lib/python3.10/site-packages/threeML/minimizer/minimization.py\u001b\\\u001b[2mminimization.py\u001b[0m\u001b]8;;\u001b\\\u001b[2m:\u001b[0m\u001b]8;id=674202;file:///Users/yoneda/Work/Exp/COSI/cosipy-2/cosipy-2-venv/lib/python3.10/site-packages/threeML/minimizer/minimization.py#1369\u001b\\\u001b[2m1369\u001b[0m\u001b]8;;\u001b\\\n"
      ]
     },
     "metadata": {},
     "output_type": "display_data"
    },
    {
     "data": {
      "text/html": [
       "<pre style=\"white-space:pre;overflow-x:auto;line-height:normal;font-family:Menlo,'DejaVu Sans Mono',consolas,'Courier New',monospace\"><span style=\"color: #00ff00; text-decoration-color: #00ff00\">15:00:15 </span><span style=\"color: #af5fd7; text-decoration-color: #af5fd7\">WARNING </span> <span style=\"color: #c6c6c6; text-decoration-color: #c6c6c6; font-weight: bold\"> The cthreeML package is not installed. You will not be able to use plugins which  </span><a href=\"file:///Users/yoneda/Work/Exp/COSI/cosipy-2/cosipy-2-venv/lib/python3.10/site-packages/threeML/__init__.py\" target=\"_blank\"><span style=\"color: #7f7f7f; text-decoration-color: #7f7f7f\">__init__.py</span></a><span style=\"color: #7f7f7f; text-decoration-color: #7f7f7f\">:</span><a href=\"file:///Users/yoneda/Work/Exp/COSI/cosipy-2/cosipy-2-venv/lib/python3.10/site-packages/threeML/__init__.py#94\" target=\"_blank\"><span style=\"color: #7f7f7f; text-decoration-color: #7f7f7f\">94</span></a>\n",
       "<span style=\"color: #00ff00; text-decoration-color: #00ff00\">         </span>         <span style=\"color: #c6c6c6; text-decoration-color: #c6c6c6; font-weight: bold\">require the C/C++ interface (currently HAWC)                                       </span><span style=\"color: #7f7f7f; text-decoration-color: #7f7f7f\">              </span>\n",
       "</pre>\n"
      ],
      "text/plain": [
       "\u001b[38;5;46m15:00:15\u001b[0m\u001b[38;5;46m \u001b[0m\u001b[38;5;134mWARNING \u001b[0m \u001b[1;38;5;251m The cthreeML package is not installed. You will not be able to use plugins which \u001b[0m\u001b[1;38;5;251m \u001b[0m\u001b]8;id=196550;file:///Users/yoneda/Work/Exp/COSI/cosipy-2/cosipy-2-venv/lib/python3.10/site-packages/threeML/__init__.py\u001b\\\u001b[2m__init__.py\u001b[0m\u001b]8;;\u001b\\\u001b[2m:\u001b[0m\u001b]8;id=847070;file:///Users/yoneda/Work/Exp/COSI/cosipy-2/cosipy-2-venv/lib/python3.10/site-packages/threeML/__init__.py#94\u001b\\\u001b[2m94\u001b[0m\u001b]8;;\u001b\\\n",
       "\u001b[38;5;46m         \u001b[0m         \u001b[1;38;5;251mrequire the C/C++ interface \u001b[0m\u001b[1;38;5;251m(\u001b[0m\u001b[1;38;5;251mcurrently HAWC\u001b[0m\u001b[1;38;5;251m)\u001b[0m\u001b[1;38;5;251m                                      \u001b[0m\u001b[1;38;5;251m \u001b[0m\u001b[2m              \u001b[0m\n"
      ]
     },
     "metadata": {},
     "output_type": "display_data"
    },
    {
     "data": {
      "text/html": [
       "<pre style=\"white-space:pre;overflow-x:auto;line-height:normal;font-family:Menlo,'DejaVu Sans Mono',consolas,'Courier New',monospace\"><span style=\"color: #00ff00; text-decoration-color: #00ff00\">         </span><span style=\"color: #af5fd7; text-decoration-color: #af5fd7\">WARNING </span> <span style=\"color: #c6c6c6; text-decoration-color: #c6c6c6; font-weight: bold\"> Could not import plugin HAWCLike.py. Do you have the relative instrument         </span><a href=\"file:///Users/yoneda/Work/Exp/COSI/cosipy-2/cosipy-2-venv/lib/python3.10/site-packages/threeML/__init__.py\" target=\"_blank\"><span style=\"color: #7f7f7f; text-decoration-color: #7f7f7f\">__init__.py</span></a><span style=\"color: #7f7f7f; text-decoration-color: #7f7f7f\">:</span><a href=\"file:///Users/yoneda/Work/Exp/COSI/cosipy-2/cosipy-2-venv/lib/python3.10/site-packages/threeML/__init__.py#144\" target=\"_blank\"><span style=\"color: #7f7f7f; text-decoration-color: #7f7f7f\">144</span></a>\n",
       "<span style=\"color: #00ff00; text-decoration-color: #00ff00\">         </span>         <span style=\"color: #c6c6c6; text-decoration-color: #c6c6c6; font-weight: bold\">software installed and configured?                                                </span><span style=\"color: #7f7f7f; text-decoration-color: #7f7f7f\">               </span>\n",
       "</pre>\n"
      ],
      "text/plain": [
       "\u001b[38;5;46m        \u001b[0m\u001b[38;5;46m \u001b[0m\u001b[38;5;134mWARNING \u001b[0m \u001b[1;38;5;251m Could not import plugin HAWCLike.py. Do you have the relative instrument        \u001b[0m\u001b[1;38;5;251m \u001b[0m\u001b]8;id=875663;file:///Users/yoneda/Work/Exp/COSI/cosipy-2/cosipy-2-venv/lib/python3.10/site-packages/threeML/__init__.py\u001b\\\u001b[2m__init__.py\u001b[0m\u001b]8;;\u001b\\\u001b[2m:\u001b[0m\u001b]8;id=302751;file:///Users/yoneda/Work/Exp/COSI/cosipy-2/cosipy-2-venv/lib/python3.10/site-packages/threeML/__init__.py#144\u001b\\\u001b[2m144\u001b[0m\u001b]8;;\u001b\\\n",
       "\u001b[38;5;46m         \u001b[0m         \u001b[1;38;5;251msoftware installed and configured?                                               \u001b[0m\u001b[1;38;5;251m \u001b[0m\u001b[2m               \u001b[0m\n"
      ]
     },
     "metadata": {},
     "output_type": "display_data"
    },
    {
     "data": {
      "text/html": [
       "<pre style=\"white-space:pre;overflow-x:auto;line-height:normal;font-family:Menlo,'DejaVu Sans Mono',consolas,'Courier New',monospace\"><span style=\"color: #00ff00; text-decoration-color: #00ff00\">         </span><span style=\"color: #af5fd7; text-decoration-color: #af5fd7\">WARNING </span> <span style=\"color: #c6c6c6; text-decoration-color: #c6c6c6; font-weight: bold\"> Could not import plugin FermiLATLike.py. Do you have the relative instrument     </span><a href=\"file:///Users/yoneda/Work/Exp/COSI/cosipy-2/cosipy-2-venv/lib/python3.10/site-packages/threeML/__init__.py\" target=\"_blank\"><span style=\"color: #7f7f7f; text-decoration-color: #7f7f7f\">__init__.py</span></a><span style=\"color: #7f7f7f; text-decoration-color: #7f7f7f\">:</span><a href=\"file:///Users/yoneda/Work/Exp/COSI/cosipy-2/cosipy-2-venv/lib/python3.10/site-packages/threeML/__init__.py#144\" target=\"_blank\"><span style=\"color: #7f7f7f; text-decoration-color: #7f7f7f\">144</span></a>\n",
       "<span style=\"color: #00ff00; text-decoration-color: #00ff00\">         </span>         <span style=\"color: #c6c6c6; text-decoration-color: #c6c6c6; font-weight: bold\">software installed and configured?                                                </span><span style=\"color: #7f7f7f; text-decoration-color: #7f7f7f\">               </span>\n",
       "</pre>\n"
      ],
      "text/plain": [
       "\u001b[38;5;46m        \u001b[0m\u001b[38;5;46m \u001b[0m\u001b[38;5;134mWARNING \u001b[0m \u001b[1;38;5;251m Could not import plugin FermiLATLike.py. Do you have the relative instrument    \u001b[0m\u001b[1;38;5;251m \u001b[0m\u001b]8;id=564966;file:///Users/yoneda/Work/Exp/COSI/cosipy-2/cosipy-2-venv/lib/python3.10/site-packages/threeML/__init__.py\u001b\\\u001b[2m__init__.py\u001b[0m\u001b]8;;\u001b\\\u001b[2m:\u001b[0m\u001b]8;id=840793;file:///Users/yoneda/Work/Exp/COSI/cosipy-2/cosipy-2-venv/lib/python3.10/site-packages/threeML/__init__.py#144\u001b\\\u001b[2m144\u001b[0m\u001b]8;;\u001b\\\n",
       "\u001b[38;5;46m         \u001b[0m         \u001b[1;38;5;251msoftware installed and configured?                                               \u001b[0m\u001b[1;38;5;251m \u001b[0m\u001b[2m               \u001b[0m\n"
      ]
     },
     "metadata": {},
     "output_type": "display_data"
    },
    {
     "data": {
      "text/html": [
       "<pre style=\"white-space:pre;overflow-x:auto;line-height:normal;font-family:Menlo,'DejaVu Sans Mono',consolas,'Courier New',monospace\"><span style=\"color: #00ff00; text-decoration-color: #00ff00\">         </span><span style=\"color: #af5fd7; text-decoration-color: #af5fd7\">WARNING </span> <span style=\"color: #c6c6c6; text-decoration-color: #c6c6c6; font-weight: bold\"> No fermitools installed                                              </span><a href=\"file:///Users/yoneda/Work/Exp/COSI/cosipy-2/cosipy-2-venv/lib/python3.10/site-packages/threeML/utils/data_builders/fermi/lat_transient_builder.py\" target=\"_blank\"><span style=\"color: #7f7f7f; text-decoration-color: #7f7f7f\">lat_transient_builder.py</span></a><span style=\"color: #7f7f7f; text-decoration-color: #7f7f7f\">:</span><a href=\"file:///Users/yoneda/Work/Exp/COSI/cosipy-2/cosipy-2-venv/lib/python3.10/site-packages/threeML/utils/data_builders/fermi/lat_transient_builder.py#44\" target=\"_blank\"><span style=\"color: #7f7f7f; text-decoration-color: #7f7f7f\">44</span></a>\n",
       "</pre>\n"
      ],
      "text/plain": [
       "\u001b[38;5;46m        \u001b[0m\u001b[38;5;46m \u001b[0m\u001b[38;5;134mWARNING \u001b[0m \u001b[1;38;5;251m No fermitools installed                                             \u001b[0m\u001b[1;38;5;251m \u001b[0m\u001b]8;id=628709;file:///Users/yoneda/Work/Exp/COSI/cosipy-2/cosipy-2-venv/lib/python3.10/site-packages/threeML/utils/data_builders/fermi/lat_transient_builder.py\u001b\\\u001b[2mlat_transient_builder.py\u001b[0m\u001b]8;;\u001b\\\u001b[2m:\u001b[0m\u001b]8;id=976232;file:///Users/yoneda/Work/Exp/COSI/cosipy-2/cosipy-2-venv/lib/python3.10/site-packages/threeML/utils/data_builders/fermi/lat_transient_builder.py#44\u001b\\\u001b[2m44\u001b[0m\u001b]8;;\u001b\\\n"
      ]
     },
     "metadata": {},
     "output_type": "display_data"
    },
    {
     "data": {
      "text/html": [
       "<pre style=\"white-space:pre;overflow-x:auto;line-height:normal;font-family:Menlo,'DejaVu Sans Mono',consolas,'Courier New',monospace\"><span style=\"color: #00ff00; text-decoration-color: #00ff00\">         </span><span style=\"color: #af5fd7; text-decoration-color: #af5fd7\">WARNING </span> <span style=\"color: #c6c6c6; text-decoration-color: #c6c6c6; font-weight: bold\"> Env. variable OMP_NUM_THREADS is not set. Please set it to </span><span style=\"color: #c0c0c0; text-decoration-color: #c0c0c0; font-weight: bold\">1</span><span style=\"color: #c6c6c6; text-decoration-color: #c6c6c6; font-weight: bold\"> for optimal         </span><a href=\"file:///Users/yoneda/Work/Exp/COSI/cosipy-2/cosipy-2-venv/lib/python3.10/site-packages/threeML/__init__.py\" target=\"_blank\"><span style=\"color: #7f7f7f; text-decoration-color: #7f7f7f\">__init__.py</span></a><span style=\"color: #7f7f7f; text-decoration-color: #7f7f7f\">:</span><a href=\"file:///Users/yoneda/Work/Exp/COSI/cosipy-2/cosipy-2-venv/lib/python3.10/site-packages/threeML/__init__.py#387\" target=\"_blank\"><span style=\"color: #7f7f7f; text-decoration-color: #7f7f7f\">387</span></a>\n",
       "<span style=\"color: #00ff00; text-decoration-color: #00ff00\">         </span>         <span style=\"color: #c6c6c6; text-decoration-color: #c6c6c6; font-weight: bold\">performances in 3ML                                                               </span><span style=\"color: #7f7f7f; text-decoration-color: #7f7f7f\">               </span>\n",
       "</pre>\n"
      ],
      "text/plain": [
       "\u001b[38;5;46m        \u001b[0m\u001b[38;5;46m \u001b[0m\u001b[38;5;134mWARNING \u001b[0m \u001b[1;38;5;251m Env. variable OMP_NUM_THREADS is not set. Please set it to \u001b[0m\u001b[1;37m1\u001b[0m\u001b[1;38;5;251m for optimal        \u001b[0m\u001b[1;38;5;251m \u001b[0m\u001b]8;id=322921;file:///Users/yoneda/Work/Exp/COSI/cosipy-2/cosipy-2-venv/lib/python3.10/site-packages/threeML/__init__.py\u001b\\\u001b[2m__init__.py\u001b[0m\u001b]8;;\u001b\\\u001b[2m:\u001b[0m\u001b]8;id=427877;file:///Users/yoneda/Work/Exp/COSI/cosipy-2/cosipy-2-venv/lib/python3.10/site-packages/threeML/__init__.py#387\u001b\\\u001b[2m387\u001b[0m\u001b]8;;\u001b\\\n",
       "\u001b[38;5;46m         \u001b[0m         \u001b[1;38;5;251mperformances in 3ML                                                              \u001b[0m\u001b[1;38;5;251m \u001b[0m\u001b[2m               \u001b[0m\n"
      ]
     },
     "metadata": {},
     "output_type": "display_data"
    },
    {
     "data": {
      "text/html": [
       "<pre style=\"white-space:pre;overflow-x:auto;line-height:normal;font-family:Menlo,'DejaVu Sans Mono',consolas,'Courier New',monospace\"><span style=\"color: #00ff00; text-decoration-color: #00ff00\">         </span><span style=\"color: #af5fd7; text-decoration-color: #af5fd7\">WARNING </span> <span style=\"color: #c6c6c6; text-decoration-color: #c6c6c6; font-weight: bold\"> Env. variable MKL_NUM_THREADS is not set. Please set it to </span><span style=\"color: #c0c0c0; text-decoration-color: #c0c0c0; font-weight: bold\">1</span><span style=\"color: #c6c6c6; text-decoration-color: #c6c6c6; font-weight: bold\"> for optimal         </span><a href=\"file:///Users/yoneda/Work/Exp/COSI/cosipy-2/cosipy-2-venv/lib/python3.10/site-packages/threeML/__init__.py\" target=\"_blank\"><span style=\"color: #7f7f7f; text-decoration-color: #7f7f7f\">__init__.py</span></a><span style=\"color: #7f7f7f; text-decoration-color: #7f7f7f\">:</span><a href=\"file:///Users/yoneda/Work/Exp/COSI/cosipy-2/cosipy-2-venv/lib/python3.10/site-packages/threeML/__init__.py#387\" target=\"_blank\"><span style=\"color: #7f7f7f; text-decoration-color: #7f7f7f\">387</span></a>\n",
       "<span style=\"color: #00ff00; text-decoration-color: #00ff00\">         </span>         <span style=\"color: #c6c6c6; text-decoration-color: #c6c6c6; font-weight: bold\">performances in 3ML                                                               </span><span style=\"color: #7f7f7f; text-decoration-color: #7f7f7f\">               </span>\n",
       "</pre>\n"
      ],
      "text/plain": [
       "\u001b[38;5;46m        \u001b[0m\u001b[38;5;46m \u001b[0m\u001b[38;5;134mWARNING \u001b[0m \u001b[1;38;5;251m Env. variable MKL_NUM_THREADS is not set. Please set it to \u001b[0m\u001b[1;37m1\u001b[0m\u001b[1;38;5;251m for optimal        \u001b[0m\u001b[1;38;5;251m \u001b[0m\u001b]8;id=189686;file:///Users/yoneda/Work/Exp/COSI/cosipy-2/cosipy-2-venv/lib/python3.10/site-packages/threeML/__init__.py\u001b\\\u001b[2m__init__.py\u001b[0m\u001b]8;;\u001b\\\u001b[2m:\u001b[0m\u001b]8;id=617167;file:///Users/yoneda/Work/Exp/COSI/cosipy-2/cosipy-2-venv/lib/python3.10/site-packages/threeML/__init__.py#387\u001b\\\u001b[2m387\u001b[0m\u001b]8;;\u001b\\\n",
       "\u001b[38;5;46m         \u001b[0m         \u001b[1;38;5;251mperformances in 3ML                                                              \u001b[0m\u001b[1;38;5;251m \u001b[0m\u001b[2m               \u001b[0m\n"
      ]
     },
     "metadata": {},
     "output_type": "display_data"
    },
    {
     "data": {
      "text/html": [
       "<pre style=\"white-space:pre;overflow-x:auto;line-height:normal;font-family:Menlo,'DejaVu Sans Mono',consolas,'Courier New',monospace\"><span style=\"color: #00ff00; text-decoration-color: #00ff00\">         </span><span style=\"color: #af5fd7; text-decoration-color: #af5fd7\">WARNING </span> <span style=\"color: #c6c6c6; text-decoration-color: #c6c6c6; font-weight: bold\"> Env. variable NUMEXPR_NUM_THREADS is not set. Please set it to </span><span style=\"color: #c0c0c0; text-decoration-color: #c0c0c0; font-weight: bold\">1</span><span style=\"color: #c6c6c6; text-decoration-color: #c6c6c6; font-weight: bold\"> for optimal     </span><a href=\"file:///Users/yoneda/Work/Exp/COSI/cosipy-2/cosipy-2-venv/lib/python3.10/site-packages/threeML/__init__.py\" target=\"_blank\"><span style=\"color: #7f7f7f; text-decoration-color: #7f7f7f\">__init__.py</span></a><span style=\"color: #7f7f7f; text-decoration-color: #7f7f7f\">:</span><a href=\"file:///Users/yoneda/Work/Exp/COSI/cosipy-2/cosipy-2-venv/lib/python3.10/site-packages/threeML/__init__.py#387\" target=\"_blank\"><span style=\"color: #7f7f7f; text-decoration-color: #7f7f7f\">387</span></a>\n",
       "<span style=\"color: #00ff00; text-decoration-color: #00ff00\">         </span>         <span style=\"color: #c6c6c6; text-decoration-color: #c6c6c6; font-weight: bold\">performances in 3ML                                                               </span><span style=\"color: #7f7f7f; text-decoration-color: #7f7f7f\">               </span>\n",
       "</pre>\n"
      ],
      "text/plain": [
       "\u001b[38;5;46m        \u001b[0m\u001b[38;5;46m \u001b[0m\u001b[38;5;134mWARNING \u001b[0m \u001b[1;38;5;251m Env. variable NUMEXPR_NUM_THREADS is not set. Please set it to \u001b[0m\u001b[1;37m1\u001b[0m\u001b[1;38;5;251m for optimal    \u001b[0m\u001b[1;38;5;251m \u001b[0m\u001b]8;id=108002;file:///Users/yoneda/Work/Exp/COSI/cosipy-2/cosipy-2-venv/lib/python3.10/site-packages/threeML/__init__.py\u001b\\\u001b[2m__init__.py\u001b[0m\u001b]8;;\u001b\\\u001b[2m:\u001b[0m\u001b]8;id=652799;file:///Users/yoneda/Work/Exp/COSI/cosipy-2/cosipy-2-venv/lib/python3.10/site-packages/threeML/__init__.py#387\u001b\\\u001b[2m387\u001b[0m\u001b]8;;\u001b\\\n",
       "\u001b[38;5;46m         \u001b[0m         \u001b[1;38;5;251mperformances in 3ML                                                              \u001b[0m\u001b[1;38;5;251m \u001b[0m\u001b[2m               \u001b[0m\n"
      ]
     },
     "metadata": {},
     "output_type": "display_data"
    }
   ],
   "source": [
    "from histpy import Histogram, HealpixAxis, Axis, Axes\n",
    "from mhealpy import HealpixMap\n",
    "from astropy.coordinates import SkyCoord, cartesian_to_spherical, Galactic\n",
    "\n",
    "from cosipy.response import FullDetectorResponse\n",
    "from cosipy.spacecraftfile import SpacecraftFile\n",
    "from cosipy.ts_map.TSMap import TSMap\n",
    "from cosipy.data_io import UnBinnedData, BinnedData\n",
    "from cosipy.image_deconvolution import SpacecraftAttitudeExposureTable, CoordsysConversionMatrix, DataIF_COSI_DC2, ImageDeconvolution\n",
    "\n",
    "# cosipy uses astropy units\n",
    "import astropy.units as u\n",
    "from astropy.units import Quantity\n",
    "from astropy.coordinates import SkyCoord\n",
    "from astropy.time import Time\n",
    "from astropy.table import Table\n",
    "from astropy.io import fits\n",
    "from scoords import Attitude, SpacecraftFrame\n",
    "\n",
    "#3ML is needed for spectral modeling\n",
    "from threeML import *\n",
    "from astromodels import Band\n",
    "\n",
    "#Other standard libraries\n",
    "import numpy as np\n",
    "import matplotlib.pyplot as plt\n",
    "from matplotlib.gridspec import GridSpec \n",
    "\n",
    "import healpy as hp\n",
    "from tqdm.autonotebook import tqdm\n",
    "\n",
    "%matplotlib inline"
   ]
  },
  {
   "cell_type": "code",
   "execution_count": 3,
   "id": "e246b643",
   "metadata": {},
   "outputs": [],
   "source": [
    "nside_scatt_binning = 32\n",
    "nside_model = 32"
   ]
  },
  {
   "cell_type": "markdown",
   "id": "8d093a5f",
   "metadata": {},
   "source": [
    "**In this notebook I change the NSIDE in the exposure table, so the binned data need to be reproduced.**"
   ]
  },
  {
   "cell_type": "markdown",
   "id": "7d93d4e9-d70f-41b5-93b6-fa8c556403c8",
   "metadata": {},
   "source": [
    "# 0. Prepare the data\n",
    "\n",
    "From wasabi\n",
    "- cosi-pipeline-public/COSI-SMEX/DC2/Responses/SMEXv12.511keV.HEALPixO4.binnedimaging.imagingresponse.nonsparse_nside16.area.h5\n",
    "- cosi-pipeline-public/COSI-SMEX/DC2/Data/Orientation/20280301_3_month.ori\n",
    "\n",
    "From docs/tutorials/image_deconvolution/511keV/ScAttBinning\n",
    "- inputs_511keV_DC2.yaml\n",
    "- imagedeconvolution_parfile_scatt_511keV.yml"
   ]
  },
  {
   "cell_type": "markdown",
   "id": "dc91fb24",
   "metadata": {},
   "source": [
    "## Load the response and orientation files\n",
    "\n",
    "<span style=\"color:red\"> please modify \"path_data\" corresponding to your environment.</span>"
   ]
  },
  {
   "cell_type": "code",
   "execution_count": 4,
   "id": "f648e175",
   "metadata": {},
   "outputs": [],
   "source": [
    "path_data = \"path/to/data/\""
   ]
  },
  {
   "cell_type": "code",
   "execution_count": 7,
   "id": "66a8b44d",
   "metadata": {},
   "outputs": [
    {
     "name": "stdout",
     "output_type": "stream",
     "text": [
      "CPU times: user 8.74 s, sys: 751 ms, total: 9.49 s\n",
      "Wall time: 9.34 s\n"
     ]
    }
   ],
   "source": [
    "%%time\n",
    "\n",
    "ori_filepath = path_data + \"20280301_3_month.ori\"\n",
    "ori = SpacecraftFile.parse_from_file(ori_filepath)"
   ]
  },
  {
   "cell_type": "code",
   "execution_count": 9,
   "id": "4709061c",
   "metadata": {},
   "outputs": [
    {
     "data": {
      "text/plain": [
       "16"
      ]
     },
     "execution_count": 9,
     "metadata": {},
     "output_type": "execute_result"
    }
   ],
   "source": [
    "full_detector_response_filename = path_data + \"SMEXv12.511keV.HEALPixO4.binnedimaging.imagingresponse.nonsparse_nside16.area.h5\"\n",
    "full_detector_response = FullDetectorResponse.open(full_detector_response_filename)\n",
    "\n",
    "nside_local = full_detector_response.nside\n",
    "npix_local = hp.nside2npix(nside_local)\n",
    "\n",
    "nside_local"
   ]
  },
  {
   "cell_type": "code",
   "execution_count": 10,
   "id": "328808b4",
   "metadata": {},
   "outputs": [
    {
     "data": {
      "text/plain": [
       "FILENAME: '/Users/yoneda/Work/Exp/COSI/cosipy-2/data_challenge/DC2/prework/data/Responses/SMEXv12.511keV.HEALPixO4.binnedimaging.imagingresponse.nonsparse_nside16.area.h5'\n",
       "AXES:\n",
       "  NuLambda:\n",
       "    DESCRIPTION: 'Location of the simulated source in the spacecraft coordinates'\n",
       "    TYPE: 'healpix'\n",
       "    NPIX: 3072\n",
       "    NSIDE: 16\n",
       "    SCHEME: 'RING'\n",
       "  Ei:\n",
       "    DESCRIPTION: 'Initial simulated energy'\n",
       "    TYPE: 'log'\n",
       "    UNIT: 'keV'\n",
       "    NBINS: 1\n",
       "    EDGES: [509.0 keV, 513.0 keV]\n",
       "  Em:\n",
       "    DESCRIPTION: 'Measured energy'\n",
       "    TYPE: 'log'\n",
       "    UNIT: 'keV'\n",
       "    NBINS: 1\n",
       "    EDGES: [509.0 keV, 513.0 keV]\n",
       "  Phi:\n",
       "    DESCRIPTION: 'Compton angle'\n",
       "    TYPE: 'linear'\n",
       "    UNIT: 'deg'\n",
       "    NBINS: 60\n",
       "    EDGES: [0.0 deg, 3.0 deg, 6.0 deg, 9.0 deg, 12.0 deg, 15.0 deg, 18.0 deg, 21.0 deg, 24.0 deg, 27.0 deg, 30.0 deg, 33.0 deg, 36.0 deg, 39.0 deg, 42.0 deg, 45.0 deg, 48.0 deg, 51.0 deg, 54.0 deg, 57.0 deg, 60.0 deg, 63.0 deg, 66.0 deg, 69.0 deg, 72.0 deg, 75.0 deg, 78.0 deg, 81.0 deg, 84.0 deg, 87.0 deg, 90.0 deg, 93.0 deg, 96.0 deg, 99.0 deg, 102.0 deg, 105.0 deg, 108.0 deg, 111.0 deg, 114.0 deg, 117.0 deg, 120.0 deg, 123.0 deg, 126.0 deg, 129.0 deg, 132.0 deg, 135.0 deg, 138.0 deg, 141.0 deg, 144.0 deg, 147.0 deg, 150.0 deg, 153.0 deg, 156.0 deg, 159.0 deg, 162.0 deg, 165.0 deg, 168.0 deg, 171.0 deg, 174.0 deg, 177.0 deg, 180.0 deg]\n",
       "  PsiChi:\n",
       "    DESCRIPTION: 'Location in the Compton Data Space'\n",
       "    TYPE: 'healpix'\n",
       "    NPIX: 3072\n",
       "    NSIDE: 16\n",
       "    SCHEME: 'RING'\n"
      ]
     },
     "execution_count": 10,
     "metadata": {},
     "output_type": "execute_result"
    }
   ],
   "source": [
    "full_detector_response"
   ]
  },
  {
   "cell_type": "markdown",
   "id": "63e57ca0",
   "metadata": {},
   "source": [
    "# 1. analyze the orientation file\n",
    "\n",
    "This section is the same as in 511keV-DC2-ScAtt-DataReduction.ipynb, but the nisde is changed to 32."
   ]
  },
  {
   "cell_type": "code",
   "execution_count": 8,
   "id": "6c61a321",
   "metadata": {},
   "outputs": [
    {
     "name": "stdout",
     "output_type": "stream",
     "text": [
      "angular resolution:  1.8322594196359498 deg.\n"
     ]
    },
    {
     "name": "stderr",
     "output_type": "stream",
     "text": [
      "\n",
      "WARNING ErfaWarning: ERFA function \"utctai\" yielded 1 of \"dubious year (Note 3)\"\n",
      "\n"
     ]
    },
    {
     "name": "stdout",
     "output_type": "stream",
     "text": [
      "duration:  92.36059027777777 d\n"
     ]
    },
    {
     "name": "stderr",
     "output_type": "stream",
     "text": [
      "\n",
      "WARNING ErfaWarning: ERFA function \"utctai\" yielded 7979955 of \"dubious year (Note 3)\"\n",
      "\n"
     ]
    },
    {
     "data": {
      "application/vnd.jupyter.widget-view+json": {
       "model_id": "f14821e8198e4f56b5f950f53708bb2c",
       "version_major": 2,
       "version_minor": 0
      },
      "text/plain": [
       "  0%|          | 0/7979955 [00:00<?, ?it/s]"
      ]
     },
     "metadata": {},
     "output_type": "display_data"
    },
    {
     "name": "stdout",
     "output_type": "stream",
     "text": [
      "CPU times: user 1min 13s, sys: 2.15 s, total: 1min 15s\n",
      "Wall time: 1min 15s\n"
     ]
    },
    {
     "data": {
      "text/html": [
       "<div>\n",
       "<style scoped>\n",
       "    .dataframe tbody tr th:only-of-type {\n",
       "        vertical-align: middle;\n",
       "    }\n",
       "\n",
       "    .dataframe tbody tr th {\n",
       "        vertical-align: top;\n",
       "    }\n",
       "\n",
       "    .dataframe thead th {\n",
       "        text-align: right;\n",
       "    }\n",
       "</style>\n",
       "<table border=\"1\" class=\"dataframe\">\n",
       "  <thead>\n",
       "    <tr style=\"text-align: right;\">\n",
       "      <th></th>\n",
       "      <th>scatt_binning_index</th>\n",
       "      <th>healpix_index</th>\n",
       "      <th>zpointing</th>\n",
       "      <th>xpointing</th>\n",
       "      <th>zpointing_averaged</th>\n",
       "      <th>xpointing_averaged</th>\n",
       "      <th>delta_time</th>\n",
       "      <th>exposure</th>\n",
       "      <th>num_pointings</th>\n",
       "      <th>bkg_group</th>\n",
       "    </tr>\n",
       "  </thead>\n",
       "  <tbody>\n",
       "    <tr>\n",
       "      <th>0</th>\n",
       "      <td>0</td>\n",
       "      <td>(8272, 427)</td>\n",
       "      <td>[[44.62664815323754, -21.585226694584346], [44...</td>\n",
       "      <td>[[44.62664815323755, 68.41477330541565], [44.6...</td>\n",
       "      <td>[44.49705286596814, -21.370653963754705]</td>\n",
       "      <td>[44.49899938347305, 68.62948123249228]</td>\n",
       "      <td>[0.9999999999969589, 1.0000000000065512, 0.999...</td>\n",
       "      <td>22051.0</td>\n",
       "      <td>22051</td>\n",
       "      <td>0</td>\n",
       "    </tr>\n",
       "    <tr>\n",
       "      <th>1</th>\n",
       "      <td>1</td>\n",
       "      <td>(8399, 427)</td>\n",
       "      <td>[[44.78167623289732, -21.840823005240516], [44...</td>\n",
       "      <td>[[44.781676232897325, 68.15917699475948], [44....</td>\n",
       "      <td>[44.84546317102121, -21.94574666279381]</td>\n",
       "      <td>[44.845668028631366, 68.05426833879696]</td>\n",
       "      <td>[0.9999999999969589, 0.9999999999969589, 0.999...</td>\n",
       "      <td>7207.0</td>\n",
       "      <td>7207</td>\n",
       "      <td>0</td>\n",
       "    </tr>\n",
       "    <tr>\n",
       "      <th>2</th>\n",
       "      <td>2</td>\n",
       "      <td>(8528, 427)</td>\n",
       "      <td>[[44.937249783176014, -22.096275698920152], [4...</td>\n",
       "      <td>[[44.93724978317603, 67.90372430107985], [44.9...</td>\n",
       "      <td>[45.280789592422735, -22.65671255168847]</td>\n",
       "      <td>[45.28405398202019, 67.34354151639131]</td>\n",
       "      <td>[0.9999999999969589, 1.0000000000065512, 0.999...</td>\n",
       "      <td>29025.0</td>\n",
       "      <td>29025</td>\n",
       "      <td>0</td>\n",
       "    </tr>\n",
       "    <tr>\n",
       "      <th>3</th>\n",
       "      <td>3</td>\n",
       "      <td>(8528, 488)</td>\n",
       "      <td>[[45.66020516346508, -23.269427365755966], [45...</td>\n",
       "      <td>[[45.6602051634651, 66.73057263424403], [45.69...</td>\n",
       "      <td>[45.792486557202956, -23.48162697469867]</td>\n",
       "      <td>[45.79313907872797, 66.51842748236865]</td>\n",
       "      <td>[1.0000000000065512, 0.9999999999969589, 0.999...</td>\n",
       "      <td>13091.0</td>\n",
       "      <td>13091</td>\n",
       "      <td>0</td>\n",
       "    </tr>\n",
       "    <tr>\n",
       "      <th>4</th>\n",
       "      <td>4</td>\n",
       "      <td>(8656, 488)</td>\n",
       "      <td>[[45.978454945885545, -23.778456203550505], [4...</td>\n",
       "      <td>[[45.978454945885545, 66.22154379644951], [46....</td>\n",
       "      <td>[46.11600105920392, -23.997057178710705]</td>\n",
       "      <td>[46.11666483156788, 66.00300061062126]</td>\n",
       "      <td>[0.9999999999969589, 0.9999999999969589, 1.000...</td>\n",
       "      <td>13268.0</td>\n",
       "      <td>13268</td>\n",
       "      <td>0</td>\n",
       "    </tr>\n",
       "    <tr>\n",
       "      <th>...</th>\n",
       "      <td>...</td>\n",
       "      <td>...</td>\n",
       "      <td>...</td>\n",
       "      <td>...</td>\n",
       "      <td>...</td>\n",
       "      <td>...</td>\n",
       "      <td>...</td>\n",
       "      <td>...</td>\n",
       "      <td>...</td>\n",
       "      <td>...</td>\n",
       "    </tr>\n",
       "    <tr>\n",
       "      <th>562</th>\n",
       "      <td>562</td>\n",
       "      <td>(3526, 515)</td>\n",
       "      <td>[[19.469949806943756, 24.43289490159796], [19....</td>\n",
       "      <td>[[199.46994980694376, 65.56710509840204], [199...</td>\n",
       "      <td>[19.471417500535573, 24.430350678106848]</td>\n",
       "      <td>[199.47141729115225, 65.56964934798671]</td>\n",
       "      <td>[1.000000000001755, 0.9999999999969589, 0.9999...</td>\n",
       "      <td>257.0</td>\n",
       "      <td>257</td>\n",
       "      <td>0</td>\n",
       "    </tr>\n",
       "    <tr>\n",
       "      <th>563</th>\n",
       "      <td>563</td>\n",
       "      <td>(745, 3302)</td>\n",
       "      <td>[[289.1161733315789, 62.182064711183735], [289...</td>\n",
       "      <td>[[109.11617333157892, 27.817935288816265], [10...</td>\n",
       "      <td>[289.1158698854739, 62.181869345669945]</td>\n",
       "      <td>[109.11587008833249, 27.818130910219594]</td>\n",
       "      <td>[0.9999999999969589, 1.0000000000065512, 0.999...</td>\n",
       "      <td>216.0</td>\n",
       "      <td>216</td>\n",
       "      <td>0</td>\n",
       "    </tr>\n",
       "    <tr>\n",
       "      <th>564</th>\n",
       "      <td>564</td>\n",
       "      <td>(11555, 3438)</td>\n",
       "      <td>[[129.37391657068838, -62.722167168565605], [1...</td>\n",
       "      <td>[[129.37391657068838, 27.277832831434402], [12...</td>\n",
       "      <td>[129.3748932372682, -62.7229126247577]</td>\n",
       "      <td>[129.3748932228599, 27.277087393995096]</td>\n",
       "      <td>[0.9999999999969589, 0.9999999999969589, 0.999...</td>\n",
       "      <td>38.0</td>\n",
       "      <td>38</td>\n",
       "      <td>0</td>\n",
       "    </tr>\n",
       "    <tr>\n",
       "      <th>565</th>\n",
       "      <td>565</td>\n",
       "      <td>(749, 3438)</td>\n",
       "      <td>[[309.37452108662, 62.72183635479668], [309.37...</td>\n",
       "      <td>[[129.37452108662, 27.27816364520332], [129.37...</td>\n",
       "      <td>[309.3747190421793, 62.723149712157756]</td>\n",
       "      <td>[129.37471903379148, 27.27685031183828]</td>\n",
       "      <td>[0.9999999999969589, 1.0000000000065512, 1.000...</td>\n",
       "      <td>57.0</td>\n",
       "      <td>57</td>\n",
       "      <td>0</td>\n",
       "    </tr>\n",
       "    <tr>\n",
       "      <th>566</th>\n",
       "      <td>566</td>\n",
       "      <td>(11205, 2781)</td>\n",
       "      <td>[[83.68502160846401, -56.50792179772638], [83....</td>\n",
       "      <td>[[83.68502160846401, 33.49207820227362], [83.6...</td>\n",
       "      <td>[83.68453862559674, -56.50760146476969]</td>\n",
       "      <td>[83.68453900120738, 33.49239873132499]</td>\n",
       "      <td>[0.9999999999969589, 0.9999999999969589, 0.999...</td>\n",
       "      <td>10.0</td>\n",
       "      <td>10</td>\n",
       "      <td>0</td>\n",
       "    </tr>\n",
       "  </tbody>\n",
       "</table>\n",
       "<p>567 rows × 10 columns</p>\n",
       "</div>"
      ],
      "text/plain": [
       "     scatt_binning_index  healpix_index  \\\n",
       "0                      0    (8272, 427)   \n",
       "1                      1    (8399, 427)   \n",
       "2                      2    (8528, 427)   \n",
       "3                      3    (8528, 488)   \n",
       "4                      4    (8656, 488)   \n",
       "..                   ...            ...   \n",
       "562                  562    (3526, 515)   \n",
       "563                  563    (745, 3302)   \n",
       "564                  564  (11555, 3438)   \n",
       "565                  565    (749, 3438)   \n",
       "566                  566  (11205, 2781)   \n",
       "\n",
       "                                             zpointing  \\\n",
       "0    [[44.62664815323754, -21.585226694584346], [44...   \n",
       "1    [[44.78167623289732, -21.840823005240516], [44...   \n",
       "2    [[44.937249783176014, -22.096275698920152], [4...   \n",
       "3    [[45.66020516346508, -23.269427365755966], [45...   \n",
       "4    [[45.978454945885545, -23.778456203550505], [4...   \n",
       "..                                                 ...   \n",
       "562  [[19.469949806943756, 24.43289490159796], [19....   \n",
       "563  [[289.1161733315789, 62.182064711183735], [289...   \n",
       "564  [[129.37391657068838, -62.722167168565605], [1...   \n",
       "565  [[309.37452108662, 62.72183635479668], [309.37...   \n",
       "566  [[83.68502160846401, -56.50792179772638], [83....   \n",
       "\n",
       "                                             xpointing  \\\n",
       "0    [[44.62664815323755, 68.41477330541565], [44.6...   \n",
       "1    [[44.781676232897325, 68.15917699475948], [44....   \n",
       "2    [[44.93724978317603, 67.90372430107985], [44.9...   \n",
       "3    [[45.6602051634651, 66.73057263424403], [45.69...   \n",
       "4    [[45.978454945885545, 66.22154379644951], [46....   \n",
       "..                                                 ...   \n",
       "562  [[199.46994980694376, 65.56710509840204], [199...   \n",
       "563  [[109.11617333157892, 27.817935288816265], [10...   \n",
       "564  [[129.37391657068838, 27.277832831434402], [12...   \n",
       "565  [[129.37452108662, 27.27816364520332], [129.37...   \n",
       "566  [[83.68502160846401, 33.49207820227362], [83.6...   \n",
       "\n",
       "                           zpointing_averaged  \\\n",
       "0    [44.49705286596814, -21.370653963754705]   \n",
       "1     [44.84546317102121, -21.94574666279381]   \n",
       "2    [45.280789592422735, -22.65671255168847]   \n",
       "3    [45.792486557202956, -23.48162697469867]   \n",
       "4    [46.11600105920392, -23.997057178710705]   \n",
       "..                                        ...   \n",
       "562  [19.471417500535573, 24.430350678106848]   \n",
       "563   [289.1158698854739, 62.181869345669945]   \n",
       "564    [129.3748932372682, -62.7229126247577]   \n",
       "565   [309.3747190421793, 62.723149712157756]   \n",
       "566   [83.68453862559674, -56.50760146476969]   \n",
       "\n",
       "                           xpointing_averaged  \\\n",
       "0      [44.49899938347305, 68.62948123249228]   \n",
       "1     [44.845668028631366, 68.05426833879696]   \n",
       "2      [45.28405398202019, 67.34354151639131]   \n",
       "3      [45.79313907872797, 66.51842748236865]   \n",
       "4      [46.11666483156788, 66.00300061062126]   \n",
       "..                                        ...   \n",
       "562   [199.47141729115225, 65.56964934798671]   \n",
       "563  [109.11587008833249, 27.818130910219594]   \n",
       "564   [129.3748932228599, 27.277087393995096]   \n",
       "565   [129.37471903379148, 27.27685031183828]   \n",
       "566    [83.68453900120738, 33.49239873132499]   \n",
       "\n",
       "                                            delta_time  exposure  \\\n",
       "0    [0.9999999999969589, 1.0000000000065512, 0.999...   22051.0   \n",
       "1    [0.9999999999969589, 0.9999999999969589, 0.999...    7207.0   \n",
       "2    [0.9999999999969589, 1.0000000000065512, 0.999...   29025.0   \n",
       "3    [1.0000000000065512, 0.9999999999969589, 0.999...   13091.0   \n",
       "4    [0.9999999999969589, 0.9999999999969589, 1.000...   13268.0   \n",
       "..                                                 ...       ...   \n",
       "562  [1.000000000001755, 0.9999999999969589, 0.9999...     257.0   \n",
       "563  [0.9999999999969589, 1.0000000000065512, 0.999...     216.0   \n",
       "564  [0.9999999999969589, 0.9999999999969589, 0.999...      38.0   \n",
       "565  [0.9999999999969589, 1.0000000000065512, 1.000...      57.0   \n",
       "566  [0.9999999999969589, 0.9999999999969589, 0.999...      10.0   \n",
       "\n",
       "     num_pointings  bkg_group  \n",
       "0            22051          0  \n",
       "1             7207          0  \n",
       "2            29025          0  \n",
       "3            13091          0  \n",
       "4            13268          0  \n",
       "..             ...        ...  \n",
       "562            257          0  \n",
       "563            216          0  \n",
       "564             38          0  \n",
       "565             57          0  \n",
       "566             10          0  \n",
       "\n",
       "[567 rows x 10 columns]"
      ]
     },
     "execution_count": 8,
     "metadata": {},
     "output_type": "execute_result"
    }
   ],
   "source": [
    "%%time\n",
    "\n",
    "exposure_table = SpacecraftAttitudeExposureTable.from_orientation(ori, nside = nside_scatt_binning, start = None, stop = None)\n",
    "exposure_table"
   ]
  },
  {
   "cell_type": "markdown",
   "id": "0084ec4c",
   "metadata": {},
   "source": [
    "You can save SpacecraftAttitudeExposureTable as a fits file."
   ]
  },
  {
   "cell_type": "code",
   "execution_count": 9,
   "id": "640e422c",
   "metadata": {},
   "outputs": [],
   "source": [
    "exposure_table.save_as_fits(f\"exposure_table_nside{nside_scatt_binning}.fits\", overwrite = True)"
   ]
  },
  {
   "cell_type": "markdown",
   "id": "b7e8280c",
   "metadata": {},
   "source": [
    "You can also read the fits file."
   ]
  },
  {
   "cell_type": "code",
   "execution_count": 10,
   "id": "af522267",
   "metadata": {},
   "outputs": [
    {
     "data": {
      "text/plain": [
       "True"
      ]
     },
     "execution_count": 10,
     "metadata": {},
     "output_type": "execute_result"
    }
   ],
   "source": [
    "exposure_table_from_fits = SpacecraftAttitudeExposureTable.from_fits(f\"exposure_table_nside{nside_scatt_binning}.fits\")\n",
    "exposure_table == exposure_table_from_fits"
   ]
  },
  {
   "cell_type": "markdown",
   "id": "5e42a177",
   "metadata": {},
   "source": [
    "# 2. Calculate the coordinate conversion matrix\n",
    "\n",
    "\n",
    "CoordsysConversionMatrix.spacecraft_attitude_binning_ccm can produce the coordinate conversion matrix for the spacecraft attitude binning.\n",
    "\n",
    "In this calculation, we calculate the exposure time map in the detector coordinate for each model pixel and each scatt_binning_index. We refer to it as the dwell time map.\n",
    "\n",
    "If use_averaged_pointing is True, first the averaged Z- and X-pointings are calculated (the average of zpointing or xpointing in the exposure table) for each scatt_binning_index, and then the dwell time map is calculated assuming the averaged pointings for each model pixel and each scatt_binning_index.\n",
    "\n",
    "If use_averaged_pointing is False, the dwell time map is calculated for each attitude in zpointing and xpointing (basically every 1 second), and then the calculated dwell time maps are summed up for each model pixel and each scatt_binning_index. \n",
    "\n",
    "In the former case, the computation is fast but may lose the angular resolution. In the latter case, the conversion matrix is more accurate, but it takes a very long time to calculate it.\n",
    "\n",
    "**With NSIDE = 32, this process may take a few hours. I also prepared a python script to create the conversion matrix. If the notebook does not work, you can use mk_ccm_upsampling.py**"
   ]
  },
  {
   "cell_type": "code",
   "execution_count": null,
   "id": "5a6488b4",
   "metadata": {},
   "outputs": [],
   "source": [
    "%%time\n",
    "\n",
    "coordsys_conv_matrix = CoordsysConversionMatrix.spacecraft_attitude_binning_ccm(full_detector_response, exposure_table, nside_model = nside_model, use_averaged_pointing = True)"
   ]
  },
  {
   "cell_type": "markdown",
   "id": "427fd56f",
   "metadata": {},
   "source": [
    "You can save CoordsysConversionMatrix as a hdf5 file."
   ]
  },
  {
   "cell_type": "code",
   "execution_count": null,
   "id": "dea7c0f6",
   "metadata": {},
   "outputs": [],
   "source": [
    "coordsys_conv_matrix.write(f\"ccm_nside{nside_model}.hdf5\", overwrite = True)"
   ]
  },
  {
   "cell_type": "markdown",
   "id": "3f45b3cc",
   "metadata": {},
   "source": [
    "You can also read the saved file."
   ]
  },
  {
   "cell_type": "code",
   "execution_count": 5,
   "id": "60f38738",
   "metadata": {},
   "outputs": [],
   "source": [
    "coordsys_conv_matrix = CoordsysConversionMatrix.open(f\"ccm_nside{nside_model}.hdf5\")"
   ]
  },
  {
   "cell_type": "markdown",
   "id": "b6cda81d",
   "metadata": {},
   "source": [
    "**Check the matrix shape**"
   ]
  },
  {
   "cell_type": "code",
   "execution_count": 11,
   "id": "96a387db",
   "metadata": {},
   "outputs": [
    {
     "data": {
      "text/html": [
       "<table><tbody><tr><th style=\"text-align: left\">Format</th><td style=\"text-align: left\">coo</td></tr><tr><th style=\"text-align: left\">Data Type</th><td style=\"text-align: left\">float64</td></tr><tr><th style=\"text-align: left\">Shape</th><td style=\"text-align: left\">(567, 12288, 3072)</td></tr><tr><th style=\"text-align: left\">nnz</th><td style=\"text-align: left\">19450362</td></tr><tr><th style=\"text-align: left\">Density</th><td style=\"text-align: left\">0.0009087453793946748</td></tr><tr><th style=\"text-align: left\">Read-only</th><td style=\"text-align: left\">True</td></tr><tr><th style=\"text-align: left\">Size</th><td style=\"text-align: left\">593.6M</td></tr><tr><th style=\"text-align: left\">Storage ratio</th><td style=\"text-align: left\">0.0</td></tr></tbody></table>"
      ],
      "text/plain": [
       "<COO: shape=(567, 12288, 3072), dtype=float64, nnz=19450362, fill_value=0.0>"
      ]
     },
     "execution_count": 11,
     "metadata": {},
     "output_type": "execute_result"
    }
   ],
   "source": [
    "coordsys_conv_matrix.contents"
   ]
  },
  {
   "cell_type": "markdown",
   "id": "4ae2fcdb",
   "metadata": {},
   "source": [
    "# 3. produce the binned data"
   ]
  },
  {
   "cell_type": "code",
   "execution_count": 12,
   "id": "d6bdd700",
   "metadata": {},
   "outputs": [],
   "source": [
    "def get_binned_data_scatt(unbinned_event, exposure_table, psichi_binning = 'local', sparse = False):\n",
    "    exposure_dict = {row['healpix_index']: row['scatt_binning_index'] for _, row in exposure_table.iterrows()}\n",
    "        \n",
    "    # from BinnedData.py\n",
    " \n",
    "    # Get energy bins:\n",
    "    energy_bin_edges = np.array(unbinned_event.energy_bins)\n",
    "    \n",
    "    # Get phi bins:\n",
    "    number_phi_bins = int(180./unbinned_event.phi_pix_size)\n",
    "    phi_bin_edges = np.linspace(0,180,number_phi_bins+1)\n",
    "    \n",
    "    # Define psichi axis and data for binning:\n",
    "    if psichi_binning == 'galactic':\n",
    "        psichi_axis = HealpixAxis(nside = unbinned_event.nside, scheme = unbinned_event.scheme, coordsys = 'galactic', label='PsiChi')\n",
    "        coords = SkyCoord(l=unbinned_event.cosi_dataset['Chi galactic']*u.deg, b=unbinned_event.cosi_dataset['Psi galactic']*u.deg, frame = 'galactic')\n",
    "    if psichi_binning == 'local':\n",
    "        psichi_axis = HealpixAxis(nside = unbinned_event.nside, scheme = unbinned_event.scheme, coordsys = SpacecraftFrame(), label='PsiChi')\n",
    "        coords = SkyCoord(lon=unbinned_event.cosi_dataset['Chi local']*u.rad, lat=((np.pi/2.0) - unbinned_event.cosi_dataset['Psi local'])*u.rad, frame = SpacecraftFrame())\n",
    "\n",
    "    # Define scatt axis and data for binning\n",
    "    n_scatt_bins = len(exposure_table)\n",
    "    scatt_axis = Axis(np.arange(n_scatt_bins + 1), label='ScAtt')\n",
    "    \n",
    "    is_nest = True if exposure_table.scheme == 'nested' else False\n",
    "    \n",
    "    nside_scatt = exposure_table.nside\n",
    "    \n",
    "    zindex = hp.ang2pix(nside_scatt, unbinned_event.cosi_dataset['Zpointings (glon,glat)'].T[0] * 180 / np.pi, \n",
    "                        unbinned_event.cosi_dataset['Zpointings (glon,glat)'].T[1] * 180 / np.pi, nest=is_nest, lonlat=True)\n",
    "    xindex = hp.ang2pix(nside_scatt, unbinned_event.cosi_dataset['Xpointings (glon,glat)'].T[0] * 180 / np.pi, \n",
    "                        unbinned_event.cosi_dataset['Xpointings (glon,glat)'].T[1] * 180 / np.pi, nest=is_nest, lonlat=True)    \n",
    "    scatt_data = np.array( [ exposure_dict[(z, x)] + 0.5 if (z,x) in exposure_dict.keys() else -1 for z, x in zip(zindex, xindex)] ) # should this \"0.5\" be needed?\n",
    "    \n",
    "    # Initialize histogram:\n",
    "    binned_data = Histogram([scatt_axis,\n",
    "                              Axis(energy_bin_edges*u.keV, label='Em'),\n",
    "                              Axis(phi_bin_edges*u.deg, label='Phi'),\n",
    "                              psichi_axis],\n",
    "                              sparse=sparse)\n",
    "\n",
    "    # Fill histogram:\n",
    "    binned_data.fill(scatt_data, unbinned_event.cosi_dataset['Energies']*u.keV, np.rad2deg(unbinned_event.cosi_dataset['Phi'])*u.deg, coords)    \n",
    "    \n",
    "    return binned_data"
   ]
  },
  {
   "cell_type": "code",
   "execution_count": 13,
   "id": "6c921875",
   "metadata": {},
   "outputs": [
    {
     "name": "stdout",
     "output_type": "stream",
     "text": [
      "CPU times: user 7.26 s, sys: 385 ms, total: 7.64 s\n",
      "Wall time: 7.65 s\n"
     ]
    }
   ],
   "source": [
    "%%time\n",
    "\n",
    "signal_filepath = path_data + \"511_thin_disk_3months_unbinned_data.fits.gz\"\n",
    "\n",
    "unbinned_signal = UnBinnedData(input_yaml = \"inputs_511keV_DC2.yaml\")\n",
    "\n",
    "unbinned_signal.cosi_dataset = unbinned_signal.get_dict_from_fits(signal_filepath)\n",
    "\n",
    "binned_signal = get_binned_data_scatt(unbinned_signal, exposure_table, psichi_binning = 'local', sparse = False)"
   ]
  },
  {
   "cell_type": "code",
   "execution_count": 14,
   "id": "291c718a",
   "metadata": {},
   "outputs": [
    {
     "name": "stdout",
     "output_type": "stream",
     "text": [
      "CPU times: user 1min 36s, sys: 4.62 s, total: 1min 40s\n",
      "Wall time: 1min 40s\n"
     ]
    }
   ],
   "source": [
    "%%time\n",
    "\n",
    "bkg_filepath = path_data + \"albedo_photons_3months_unbinned_data.fits.gz\"\n",
    "\n",
    "unbinned_bkg = UnBinnedData(input_yaml = \"inputs_511keV_DC2.yaml\")\n",
    "\n",
    "unbinned_bkg.cosi_dataset = unbinned_bkg.get_dict_from_fits(bkg_filepath)\n",
    "\n",
    "binned_bkg = get_binned_data_scatt(unbinned_bkg, exposure_table, psichi_binning = 'local', sparse = False)"
   ]
  },
  {
   "cell_type": "code",
   "execution_count": 15,
   "id": "c01bdfaf",
   "metadata": {},
   "outputs": [],
   "source": [
    "binned_event = binned_signal + binned_bkg"
   ]
  },
  {
   "cell_type": "markdown",
   "id": "6952e6a5",
   "metadata": {},
   "source": [
    "# 4. Imaging deconvolution"
   ]
  },
  {
   "cell_type": "markdown",
   "id": "42ae33b7",
   "metadata": {},
   "source": [
    "## 4-1. Prepare DataLoader containing all neccesary datasets"
   ]
  },
  {
   "cell_type": "code",
   "execution_count": 16,
   "id": "dc875668",
   "metadata": {},
   "outputs": [
    {
     "name": "stdout",
     "output_type": "stream",
     "text": [
      "Loading the response matrix onto your computer memory...\n",
      "Finished\n",
      "Note that _modify_axes() in DataLoader was implemented for a temporary use. It will be removed in the future.\n",
      "... checking the axis ScAtt of the event and background files...\n",
      "    --> pass (edges)\n",
      "    --> pass (unit)\n",
      "... checking the axis Em of the event and background files...\n",
      "    --> pass (edges)\n",
      "    --> pass (unit)\n",
      "... checking the axis Phi of the event and background files...\n",
      "    --> pass (edges)\n",
      "    --> pass (unit)\n",
      "... checking the axis PsiChi of the event and background files...\n",
      "    --> pass (edges)\n",
      "    --> pass (unit)\n",
      "...checking the axis Em of the event and response files...\n",
      "    --> pass (edges)\n",
      "...checking the axis Phi of the event and response files...\n",
      "    --> pass (edges)\n",
      "...checking the axis PsiChi of the event and response files...\n",
      "    --> pass (edges)\n",
      "The axes in the event and background files are redefined. Now they are consistent with those of the response file.\n",
      "Calculating an exposure map...\n",
      "Finished...\n",
      "CPU times: user 17 s, sys: 3.58 s, total: 20.6 s\n",
      "Wall time: 20.6 s\n"
     ]
    }
   ],
   "source": [
    "%%time\n",
    "\n",
    "dataloader = DataIF_COSI_DC2.load(name = \"511keV\",\n",
    "                                  event_binned_data = binned_event,\n",
    "                                  dict_bkg_binned_data = {\"albedo\": binned_bkg},\n",
    "                                  rsp = full_detector_response,\n",
    "                                  coordsys_conv_matrix=coordsys_conv_matrix,\n",
    "                                  is_miniDC2_format=False)"
   ]
  },
  {
   "cell_type": "markdown",
   "id": "e6091c9c",
   "metadata": {},
   "source": [
    "## 4-2. Initialize the instance of the image deconvolution class"
   ]
  },
  {
   "cell_type": "code",
   "execution_count": 23,
   "id": "a1c17851",
   "metadata": {},
   "outputs": [],
   "source": [
    "parameter_filepath = \"imagedeconvolution_parfile_scatt_511keV.yml\""
   ]
  },
  {
   "cell_type": "code",
   "execution_count": 24,
   "id": "1b162894",
   "metadata": {},
   "outputs": [],
   "source": [
    "image_deconvolution = ImageDeconvolution()\n",
    "\n",
    "# set dataloader to image_deconvolution\n",
    "image_deconvolution.set_dataset([dataloader])\n",
    "\n",
    "# set a parameter file for the image deconvolution\n",
    "image_deconvolution.read_parameterfile(parameter_filepath)"
   ]
  },
  {
   "cell_type": "markdown",
   "id": "89aeb1ad",
   "metadata": {},
   "source": [
    "**Do not forget to make sure that NSIDE of the model map is modified to 32**"
   ]
  },
  {
   "cell_type": "code",
   "execution_count": 25,
   "id": "46c7a9f0",
   "metadata": {},
   "outputs": [],
   "source": [
    "image_deconvolution.override_parameter(f\"model_definition:property:nside = {nside_model}\")"
   ]
  },
  {
   "cell_type": "code",
   "execution_count": 26,
   "id": "1e5a7300",
   "metadata": {},
   "outputs": [
    {
     "name": "stdout",
     "output_type": "stream",
     "text": [
      "#### Initialization Starts ####\n",
      "<< Instantiating the model class AllSkyImage >>\n",
      "---- parameters ----\n",
      "coordinate: galactic\n",
      "energy_edges:\n",
      "  unit: keV\n",
      "  value:\n",
      "  - 509.0\n",
      "  - 513.0\n",
      "nside: 32\n",
      "scheme: ring\n",
      "unit: cm-2 s-1 sr-1\n",
      "\n",
      "<< Setting initial values of the created model object >>\n",
      "---- parameters ----\n",
      "algorithm: flat\n",
      "parameter:\n",
      "  unit: cm-2 s-1 sr-1\n",
      "  value:\n",
      "  - 1e-4\n",
      "\n",
      "<< Registering the deconvolution algorithm >>\n",
      "Gaussian filter with FWHM of 2.5 deg will be applied to delta images ...\n",
      "---- parameters ----\n",
      "algorithm: RL\n",
      "parameter:\n",
      "  acceleration: true\n",
      "  alpha_max: 10\n",
      "  background_normalization_optimization: true\n",
      "  background_normalization_range:\n",
      "    albedo:\n",
      "    - 0.01\n",
      "    - 10.0\n",
      "  iteration_max: 20\n",
      "  response_weighting: true\n",
      "  response_weighting_index: 0.5\n",
      "  save_results: false\n",
      "  save_results_directory: ./results\n",
      "  smoothing: true\n",
      "  smoothing_FWHM:\n",
      "    unit: deg\n",
      "    value: 2.5\n",
      "\n",
      "#### Initialization Finished ####\n"
     ]
    }
   ],
   "source": [
    "image_deconvolution.override_parameter(\"deconvolution:parameter:iteration_max = 20\")\n",
    "image_deconvolution.override_parameter(\"deconvolution:parameter:background_normalization_optimization = True\")\n",
    "image_deconvolution.override_parameter(\"deconvolution:parameter:alpha_max = 10\")\n",
    "image_deconvolution.override_parameter(\"deconvolution:parameter:smoothing_FWHM:value = 2.5\")\n",
    "\n",
    "image_deconvolution.initialize()"
   ]
  },
  {
   "cell_type": "markdown",
   "id": "5dfe8724",
   "metadata": {},
   "source": [
    "## 4-3. Start the image deconvolution\n",
    "\n",
    "**With MacBook Pro with M1 Max and 64 GB memory, it takes about 9 minutes for 20 iterations.**"
   ]
  },
  {
   "cell_type": "code",
   "execution_count": 27,
   "id": "36250158",
   "metadata": {
    "collapsed": true,
    "jupyter": {
     "outputs_hidden": true
    }
   },
   "outputs": [
    {
     "name": "stdout",
     "output_type": "stream",
     "text": [
      "#### Image Deconvolution Starts ####\n",
      "<< Initialization >>\n",
      "The response weighting filter was calculated.\n",
      "The expected count histograms were calculated with the initial model map.\n"
     ]
    },
    {
     "data": {
      "application/vnd.jupyter.widget-view+json": {
       "model_id": "c8a43b55a119465b9c4ef6a87e63c164",
       "version_major": 2,
       "version_minor": 0
      },
      "text/plain": [
       "  0%|          | 0/20 [00:00<?, ?it/s]"
      ]
     },
     "metadata": {},
     "output_type": "display_data"
    },
    {
     "name": "stdout",
     "output_type": "stream",
     "text": [
      "## Iteration 1/20 ##\n",
      "<< Pre-processing >>\n",
      "<< E-step >>\n",
      "<< M-step >>\n"
     ]
    },
    {
     "name": "stderr",
     "output_type": "stream",
     "text": [
      "\n",
      "WARNING RuntimeWarning: invalid value encountered in divide\n",
      "\n"
     ]
    },
    {
     "name": "stdout",
     "output_type": "stream",
     "text": [
      "<< Post-processing >>\n",
      "<< Registering Result >>\n",
      "  alpha: 2.0958104654983636\n",
      "  background_normalization: {'albedo': 1.002492354360444}\n",
      "  loglikelihood: [-1744183.963284464]\n",
      "<< Checking Stopping Criteria >>\n",
      "--> Continue\n",
      "## Iteration 2/20 ##\n",
      "<< Pre-processing >>\n",
      "<< E-step >>\n",
      "<< M-step >>\n"
     ]
    },
    {
     "name": "stderr",
     "output_type": "stream",
     "text": [
      "\n",
      "WARNING RuntimeWarning: invalid value encountered in divide\n",
      "\n"
     ]
    },
    {
     "name": "stdout",
     "output_type": "stream",
     "text": [
      "<< Post-processing >>\n",
      "<< Registering Result >>\n",
      "  alpha: 1.0\n",
      "  background_normalization: {'albedo': 0.9979606239037078}\n",
      "  loglikelihood: [-1710828.5323352944]\n",
      "<< Checking Stopping Criteria >>\n",
      "--> Continue\n",
      "## Iteration 3/20 ##\n",
      "<< Pre-processing >>\n",
      "<< E-step >>\n",
      "<< M-step >>\n"
     ]
    },
    {
     "name": "stderr",
     "output_type": "stream",
     "text": [
      "\n",
      "WARNING RuntimeWarning: invalid value encountered in divide\n",
      "\n"
     ]
    },
    {
     "name": "stdout",
     "output_type": "stream",
     "text": [
      "<< Post-processing >>\n",
      "<< Registering Result >>\n",
      "  alpha: 1.0\n",
      "  background_normalization: {'albedo': 0.9998166757901938}\n",
      "  loglikelihood: [-1701026.2905345957]\n",
      "<< Checking Stopping Criteria >>\n",
      "--> Continue\n",
      "## Iteration 4/20 ##\n",
      "<< Pre-processing >>\n",
      "<< E-step >>\n",
      "<< M-step >>\n"
     ]
    },
    {
     "name": "stderr",
     "output_type": "stream",
     "text": [
      "\n",
      "WARNING RuntimeWarning: invalid value encountered in divide\n",
      "\n"
     ]
    },
    {
     "name": "stdout",
     "output_type": "stream",
     "text": [
      "<< Post-processing >>\n",
      "<< Registering Result >>\n",
      "  alpha: 2.1073570632925875\n",
      "  background_normalization: {'albedo': 0.9999667614163193}\n",
      "  loglikelihood: [-1689445.4683842212]\n",
      "<< Checking Stopping Criteria >>\n",
      "--> Continue\n",
      "## Iteration 5/20 ##\n",
      "<< Pre-processing >>\n",
      "<< E-step >>\n",
      "<< M-step >>\n"
     ]
    },
    {
     "name": "stderr",
     "output_type": "stream",
     "text": [
      "\n",
      "WARNING RuntimeWarning: invalid value encountered in divide\n",
      "\n"
     ]
    },
    {
     "name": "stdout",
     "output_type": "stream",
     "text": [
      "<< Post-processing >>\n",
      "<< Registering Result >>\n",
      "  alpha: 1.0\n",
      "  background_normalization: {'albedo': 0.9999614981769829}\n",
      "  loglikelihood: [-1687175.0123144817]\n",
      "<< Checking Stopping Criteria >>\n",
      "--> Continue\n",
      "## Iteration 6/20 ##\n",
      "<< Pre-processing >>\n",
      "<< E-step >>\n",
      "<< M-step >>\n"
     ]
    },
    {
     "name": "stderr",
     "output_type": "stream",
     "text": [
      "\n",
      "WARNING RuntimeWarning: invalid value encountered in divide\n",
      "\n"
     ]
    },
    {
     "name": "stdout",
     "output_type": "stream",
     "text": [
      "<< Post-processing >>\n",
      "<< Registering Result >>\n",
      "  alpha: 1.292984460640693\n",
      "  background_normalization: {'albedo': 0.999943198007437}\n",
      "  loglikelihood: [-1685047.41137787]\n",
      "<< Checking Stopping Criteria >>\n",
      "--> Continue\n",
      "## Iteration 7/20 ##\n",
      "<< Pre-processing >>\n",
      "<< E-step >>\n",
      "<< M-step >>\n"
     ]
    },
    {
     "name": "stderr",
     "output_type": "stream",
     "text": [
      "\n",
      "WARNING RuntimeWarning: invalid value encountered in divide\n",
      "\n"
     ]
    },
    {
     "name": "stdout",
     "output_type": "stream",
     "text": [
      "<< Post-processing >>\n",
      "<< Registering Result >>\n",
      "  alpha: 1.0\n",
      "  background_normalization: {'albedo': 0.9999367690196683}\n",
      "  loglikelihood: [-1683881.9253378445]\n",
      "<< Checking Stopping Criteria >>\n",
      "--> Continue\n",
      "## Iteration 8/20 ##\n",
      "<< Pre-processing >>\n",
      "<< E-step >>\n",
      "<< M-step >>\n"
     ]
    },
    {
     "name": "stderr",
     "output_type": "stream",
     "text": [
      "\n",
      "WARNING RuntimeWarning: invalid value encountered in divide\n",
      "\n"
     ]
    },
    {
     "name": "stdout",
     "output_type": "stream",
     "text": [
      "<< Post-processing >>\n",
      "<< Registering Result >>\n",
      "  alpha: 2.0742304204913\n",
      "  background_normalization: {'albedo': 0.9999346680604159}\n",
      "  loglikelihood: [-1682092.0633512372]\n",
      "<< Checking Stopping Criteria >>\n",
      "--> Continue\n",
      "## Iteration 9/20 ##\n",
      "<< Pre-processing >>\n",
      "<< E-step >>\n",
      "<< M-step >>\n"
     ]
    },
    {
     "name": "stderr",
     "output_type": "stream",
     "text": [
      "\n",
      "WARNING RuntimeWarning: invalid value encountered in divide\n",
      "\n"
     ]
    },
    {
     "name": "stdout",
     "output_type": "stream",
     "text": [
      "<< Post-processing >>\n",
      "<< Registering Result >>\n",
      "  alpha: 1.0\n",
      "  background_normalization: {'albedo': 0.9999312227820746}\n",
      "  loglikelihood: [-1681536.033350681]\n",
      "<< Checking Stopping Criteria >>\n",
      "--> Continue\n",
      "## Iteration 10/20 ##\n",
      "<< Pre-processing >>\n",
      "<< E-step >>\n",
      "<< M-step >>\n"
     ]
    },
    {
     "name": "stderr",
     "output_type": "stream",
     "text": [
      "\n",
      "WARNING RuntimeWarning: invalid value encountered in divide\n",
      "\n"
     ]
    },
    {
     "name": "stdout",
     "output_type": "stream",
     "text": [
      "<< Post-processing >>\n",
      "<< Registering Result >>\n",
      "  alpha: 2.108159779149422\n",
      "  background_normalization: {'albedo': 0.9999302415634472}\n",
      "  loglikelihood: [-1680607.4649443883]\n",
      "<< Checking Stopping Criteria >>\n",
      "--> Continue\n",
      "## Iteration 11/20 ##\n",
      "<< Pre-processing >>\n",
      "<< E-step >>\n",
      "<< M-step >>\n"
     ]
    },
    {
     "name": "stderr",
     "output_type": "stream",
     "text": [
      "\n",
      "WARNING RuntimeWarning: invalid value encountered in divide\n",
      "\n"
     ]
    },
    {
     "name": "stdout",
     "output_type": "stream",
     "text": [
      "<< Post-processing >>\n",
      "<< Registering Result >>\n",
      "  alpha: 2.1764346376350616\n",
      "  background_normalization: {'albedo': 0.999928544784335}\n",
      "  loglikelihood: [-1679957.4691362404]\n",
      "<< Checking Stopping Criteria >>\n",
      "--> Continue\n",
      "## Iteration 12/20 ##\n",
      "<< Pre-processing >>\n",
      "<< E-step >>\n",
      "<< M-step >>\n"
     ]
    },
    {
     "name": "stderr",
     "output_type": "stream",
     "text": [
      "\n",
      "WARNING RuntimeWarning: invalid value encountered in divide\n",
      "\n"
     ]
    },
    {
     "name": "stdout",
     "output_type": "stream",
     "text": [
      "<< Post-processing >>\n",
      "<< Registering Result >>\n",
      "  alpha: 1.0\n",
      "  background_normalization: {'albedo': 0.9999273747864688}\n",
      "  loglikelihood: [-1679738.7654621345]\n",
      "<< Checking Stopping Criteria >>\n",
      "--> Continue\n",
      "## Iteration 13/20 ##\n",
      "<< Pre-processing >>\n",
      "<< E-step >>\n",
      "<< M-step >>\n"
     ]
    },
    {
     "name": "stderr",
     "output_type": "stream",
     "text": [
      "\n",
      "WARNING RuntimeWarning: invalid value encountered in divide\n",
      "\n"
     ]
    },
    {
     "name": "stdout",
     "output_type": "stream",
     "text": [
      "<< Post-processing >>\n",
      "<< Registering Result >>\n",
      "  alpha: 2.713722413462239\n",
      "  background_normalization: {'albedo': 0.9999270268549275}\n",
      "  loglikelihood: [-1679245.1285015517]\n",
      "<< Checking Stopping Criteria >>\n",
      "--> Continue\n",
      "## Iteration 14/20 ##\n",
      "<< Pre-processing >>\n",
      "<< E-step >>\n",
      "<< M-step >>\n"
     ]
    },
    {
     "name": "stderr",
     "output_type": "stream",
     "text": [
      "\n",
      "WARNING RuntimeWarning: invalid value encountered in divide\n",
      "\n"
     ]
    },
    {
     "name": "stdout",
     "output_type": "stream",
     "text": [
      "<< Post-processing >>\n",
      "<< Registering Result >>\n",
      "  alpha: 1.0\n",
      "  background_normalization: {'albedo': 0.9999263061428777}\n",
      "  loglikelihood: [-1679113.2695051148]\n",
      "<< Checking Stopping Criteria >>\n",
      "--> Continue\n",
      "## Iteration 15/20 ##\n",
      "<< Pre-processing >>\n",
      "<< E-step >>\n",
      "<< M-step >>\n"
     ]
    },
    {
     "name": "stderr",
     "output_type": "stream",
     "text": [
      "\n",
      "WARNING RuntimeWarning: invalid value encountered in divide\n",
      "\n"
     ]
    },
    {
     "name": "stdout",
     "output_type": "stream",
     "text": [
      "<< Post-processing >>\n",
      "<< Registering Result >>\n",
      "  alpha: 1.0\n",
      "  background_normalization: {'albedo': 0.9999261607412325}\n",
      "  loglikelihood: [-1678995.4744698927]\n",
      "<< Checking Stopping Criteria >>\n",
      "--> Continue\n",
      "## Iteration 16/20 ##\n",
      "<< Pre-processing >>\n",
      "<< E-step >>\n",
      "<< M-step >>\n"
     ]
    },
    {
     "name": "stderr",
     "output_type": "stream",
     "text": [
      "\n",
      "WARNING RuntimeWarning: invalid value encountered in divide\n",
      "\n"
     ]
    },
    {
     "name": "stdout",
     "output_type": "stream",
     "text": [
      "<< Post-processing >>\n",
      "<< Registering Result >>\n",
      "  alpha: 1.7912187748865471\n",
      "  background_normalization: {'albedo': 0.9999260639703538}\n",
      "  loglikelihood: [-1678809.3175096312]\n",
      "<< Checking Stopping Criteria >>\n",
      "--> Continue\n",
      "## Iteration 17/20 ##\n",
      "<< Pre-processing >>\n",
      "<< E-step >>\n",
      "<< M-step >>\n"
     ]
    },
    {
     "name": "stderr",
     "output_type": "stream",
     "text": [
      "\n",
      "WARNING RuntimeWarning: invalid value encountered in divide\n",
      "\n"
     ]
    },
    {
     "name": "stdout",
     "output_type": "stream",
     "text": [
      "<< Post-processing >>\n",
      "<< Registering Result >>\n",
      "  alpha: 1.0056374932500127\n",
      "  background_normalization: {'albedo': 0.9999259458568807}\n",
      "  loglikelihood: [-1678721.3843006236]\n",
      "<< Checking Stopping Criteria >>\n",
      "--> Continue\n",
      "## Iteration 18/20 ##\n",
      "<< Pre-processing >>\n",
      "<< E-step >>\n",
      "<< M-step >>\n"
     ]
    },
    {
     "name": "stderr",
     "output_type": "stream",
     "text": [
      "\n",
      "WARNING RuntimeWarning: invalid value encountered in divide\n",
      "\n"
     ]
    },
    {
     "name": "stdout",
     "output_type": "stream",
     "text": [
      "<< Post-processing >>\n",
      "<< Registering Result >>\n",
      "  alpha: 1.0\n",
      "  background_normalization: {'albedo': 0.9999259163711686}\n",
      "  loglikelihood: [-1678642.0598430093]\n",
      "<< Checking Stopping Criteria >>\n",
      "--> Continue\n",
      "## Iteration 19/20 ##\n",
      "<< Pre-processing >>\n",
      "<< E-step >>\n",
      "<< M-step >>\n"
     ]
    },
    {
     "name": "stderr",
     "output_type": "stream",
     "text": [
      "\n",
      "WARNING RuntimeWarning: invalid value encountered in divide\n",
      "\n"
     ]
    },
    {
     "name": "stdout",
     "output_type": "stream",
     "text": [
      "<< Post-processing >>\n",
      "<< Registering Result >>\n",
      "  alpha: 1.0\n",
      "  background_normalization: {'albedo': 0.9999259054566617}\n",
      "  loglikelihood: [-1678569.819892738]\n",
      "<< Checking Stopping Criteria >>\n",
      "--> Continue\n",
      "## Iteration 20/20 ##\n",
      "<< Pre-processing >>\n",
      "<< E-step >>\n",
      "<< M-step >>\n"
     ]
    },
    {
     "name": "stderr",
     "output_type": "stream",
     "text": [
      "\n",
      "WARNING RuntimeWarning: invalid value encountered in divide\n",
      "\n"
     ]
    },
    {
     "name": "stdout",
     "output_type": "stream",
     "text": [
      "<< Post-processing >>\n",
      "<< Registering Result >>\n",
      "  alpha: 1.0\n",
      "  background_normalization: {'albedo': 0.9999259079653552}\n",
      "  loglikelihood: [-1678503.822796152]\n",
      "<< Checking Stopping Criteria >>\n",
      "--> Stop\n",
      "<< Finalization >>\n",
      "#### Image Deconvolution Finished ####\n",
      "CPU times: user 34min 55s, sys: 2min 26s, total: 37min 21s\n",
      "Wall time: 7min 11s\n"
     ]
    }
   ],
   "source": [
    "%%time\n",
    "\n",
    "image_deconvolution.run_deconvolution()"
   ]
  },
  {
   "cell_type": "code",
   "execution_count": 28,
   "id": "8b9266e3",
   "metadata": {
    "collapsed": true,
    "jupyter": {
     "outputs_hidden": true
    }
   },
   "outputs": [
    {
     "data": {
      "text/plain": [
       "[{'iteration': 1,\n",
       "  'model': <cosipy.image_deconvolution.allskyimage.AllSkyImageModel at 0x444613a00>,\n",
       "  'delta_model': <cosipy.image_deconvolution.allskyimage.AllSkyImageModel at 0x444611960>,\n",
       "  'processed_delta_model': <cosipy.image_deconvolution.allskyimage.AllSkyImageModel at 0x4446111e0>,\n",
       "  'background_normalization': {'albedo': 1.002492354360444},\n",
       "  'alpha': <Quantity 2.09581047>,\n",
       "  'loglikelihood': [-1744183.963284464]},\n",
       " {'iteration': 2,\n",
       "  'model': <cosipy.image_deconvolution.allskyimage.AllSkyImageModel at 0x444611e70>,\n",
       "  'delta_model': <cosipy.image_deconvolution.allskyimage.AllSkyImageModel at 0x444613e80>,\n",
       "  'processed_delta_model': <cosipy.image_deconvolution.allskyimage.AllSkyImageModel at 0x444610a60>,\n",
       "  'background_normalization': {'albedo': 0.9979606239037078},\n",
       "  'alpha': 1.0,\n",
       "  'loglikelihood': [-1710828.5323352944]},\n",
       " {'iteration': 3,\n",
       "  'model': <cosipy.image_deconvolution.allskyimage.AllSkyImageModel at 0x444611300>,\n",
       "  'delta_model': <cosipy.image_deconvolution.allskyimage.AllSkyImageModel at 0x4446138e0>,\n",
       "  'processed_delta_model': <cosipy.image_deconvolution.allskyimage.AllSkyImageModel at 0x444610640>,\n",
       "  'background_normalization': {'albedo': 0.9998166757901938},\n",
       "  'alpha': 1.0,\n",
       "  'loglikelihood': [-1701026.2905345957]},\n",
       " {'iteration': 4,\n",
       "  'model': <cosipy.image_deconvolution.allskyimage.AllSkyImageModel at 0x4446106d0>,\n",
       "  'delta_model': <cosipy.image_deconvolution.allskyimage.AllSkyImageModel at 0x4446102e0>,\n",
       "  'processed_delta_model': <cosipy.image_deconvolution.allskyimage.AllSkyImageModel at 0x444610820>,\n",
       "  'background_normalization': {'albedo': 0.9999667614163193},\n",
       "  'alpha': <Quantity 2.10735706>,\n",
       "  'loglikelihood': [-1689445.4683842212]},\n",
       " {'iteration': 5,\n",
       "  'model': <cosipy.image_deconvolution.allskyimage.AllSkyImageModel at 0x444613d00>,\n",
       "  'delta_model': <cosipy.image_deconvolution.allskyimage.AllSkyImageModel at 0x444611630>,\n",
       "  'processed_delta_model': <cosipy.image_deconvolution.allskyimage.AllSkyImageModel at 0x4446107f0>,\n",
       "  'background_normalization': {'albedo': 0.9999614981769829},\n",
       "  'alpha': 1.0,\n",
       "  'loglikelihood': [-1687175.0123144817]},\n",
       " {'iteration': 6,\n",
       "  'model': <cosipy.image_deconvolution.allskyimage.AllSkyImageModel at 0x4446122f0>,\n",
       "  'delta_model': <cosipy.image_deconvolution.allskyimage.AllSkyImageModel at 0x444612e90>,\n",
       "  'processed_delta_model': <cosipy.image_deconvolution.allskyimage.AllSkyImageModel at 0x444612890>,\n",
       "  'background_normalization': {'albedo': 0.999943198007437},\n",
       "  'alpha': <Quantity 1.29298446>,\n",
       "  'loglikelihood': [-1685047.41137787]},\n",
       " {'iteration': 7,\n",
       "  'model': <cosipy.image_deconvolution.allskyimage.AllSkyImageModel at 0x444610d30>,\n",
       "  'delta_model': <cosipy.image_deconvolution.allskyimage.AllSkyImageModel at 0x4446132b0>,\n",
       "  'processed_delta_model': <cosipy.image_deconvolution.allskyimage.AllSkyImageModel at 0x444610880>,\n",
       "  'background_normalization': {'albedo': 0.9999367690196683},\n",
       "  'alpha': 1.0,\n",
       "  'loglikelihood': [-1683881.9253378445]},\n",
       " {'iteration': 8,\n",
       "  'model': <cosipy.image_deconvolution.allskyimage.AllSkyImageModel at 0x4446125c0>,\n",
       "  'delta_model': <cosipy.image_deconvolution.allskyimage.AllSkyImageModel at 0x4446108b0>,\n",
       "  'processed_delta_model': <cosipy.image_deconvolution.allskyimage.AllSkyImageModel at 0x444610940>,\n",
       "  'background_normalization': {'albedo': 0.9999346680604159},\n",
       "  'alpha': <Quantity 2.07423042>,\n",
       "  'loglikelihood': [-1682092.0633512372]},\n",
       " {'iteration': 9,\n",
       "  'model': <cosipy.image_deconvolution.allskyimage.AllSkyImageModel at 0x4446117b0>,\n",
       "  'delta_model': <cosipy.image_deconvolution.allskyimage.AllSkyImageModel at 0x4446119c0>,\n",
       "  'processed_delta_model': <cosipy.image_deconvolution.allskyimage.AllSkyImageModel at 0x4446114b0>,\n",
       "  'background_normalization': {'albedo': 0.9999312227820746},\n",
       "  'alpha': 1.0,\n",
       "  'loglikelihood': [-1681536.033350681]},\n",
       " {'iteration': 10,\n",
       "  'model': <cosipy.image_deconvolution.allskyimage.AllSkyImageModel at 0x51f5bf4f0>,\n",
       "  'delta_model': <cosipy.image_deconvolution.allskyimage.AllSkyImageModel at 0x51f5bf5e0>,\n",
       "  'processed_delta_model': <cosipy.image_deconvolution.allskyimage.AllSkyImageModel at 0x2b787faf0>,\n",
       "  'background_normalization': {'albedo': 0.9999302415634472},\n",
       "  'alpha': <Quantity 2.10815978>,\n",
       "  'loglikelihood': [-1680607.4649443883]},\n",
       " {'iteration': 11,\n",
       "  'model': <cosipy.image_deconvolution.allskyimage.AllSkyImageModel at 0x4446109d0>,\n",
       "  'delta_model': <cosipy.image_deconvolution.allskyimage.AllSkyImageModel at 0x444613550>,\n",
       "  'processed_delta_model': <cosipy.image_deconvolution.allskyimage.AllSkyImageModel at 0x51f5bfa60>,\n",
       "  'background_normalization': {'albedo': 0.999928544784335},\n",
       "  'alpha': <Quantity 2.17643464>,\n",
       "  'loglikelihood': [-1679957.4691362404]},\n",
       " {'iteration': 12,\n",
       "  'model': <cosipy.image_deconvolution.allskyimage.AllSkyImageModel at 0x443bf6770>,\n",
       "  'delta_model': <cosipy.image_deconvolution.allskyimage.AllSkyImageModel at 0x51f5bfd30>,\n",
       "  'processed_delta_model': <cosipy.image_deconvolution.allskyimage.AllSkyImageModel at 0x2b787dab0>,\n",
       "  'background_normalization': {'albedo': 0.9999273747864688},\n",
       "  'alpha': 1.0,\n",
       "  'loglikelihood': [-1679738.7654621345]},\n",
       " {'iteration': 13,\n",
       "  'model': <cosipy.image_deconvolution.allskyimage.AllSkyImageModel at 0x444611bd0>,\n",
       "  'delta_model': <cosipy.image_deconvolution.allskyimage.AllSkyImageModel at 0x4446113c0>,\n",
       "  'processed_delta_model': <cosipy.image_deconvolution.allskyimage.AllSkyImageModel at 0x105779e10>,\n",
       "  'background_normalization': {'albedo': 0.9999270268549275},\n",
       "  'alpha': <Quantity 2.71372241>,\n",
       "  'loglikelihood': [-1679245.1285015517]},\n",
       " {'iteration': 14,\n",
       "  'model': <cosipy.image_deconvolution.allskyimage.AllSkyImageModel at 0x51f5bf9a0>,\n",
       "  'delta_model': <cosipy.image_deconvolution.allskyimage.AllSkyImageModel at 0x51f5bf1f0>,\n",
       "  'processed_delta_model': <cosipy.image_deconvolution.allskyimage.AllSkyImageModel at 0x30ebcd660>,\n",
       "  'background_normalization': {'albedo': 0.9999263061428777},\n",
       "  'alpha': 1.0,\n",
       "  'loglikelihood': [-1679113.2695051148]},\n",
       " {'iteration': 15,\n",
       "  'model': <cosipy.image_deconvolution.allskyimage.AllSkyImageModel at 0x2b78bfcd0>,\n",
       "  'delta_model': <cosipy.image_deconvolution.allskyimage.AllSkyImageModel at 0x2b78bfaf0>,\n",
       "  'processed_delta_model': <cosipy.image_deconvolution.allskyimage.AllSkyImageModel at 0x30ebcce20>,\n",
       "  'background_normalization': {'albedo': 0.9999261607412325},\n",
       "  'alpha': 1.0,\n",
       "  'loglikelihood': [-1678995.4744698927]},\n",
       " {'iteration': 16,\n",
       "  'model': <cosipy.image_deconvolution.allskyimage.AllSkyImageModel at 0x444612ad0>,\n",
       "  'delta_model': <cosipy.image_deconvolution.allskyimage.AllSkyImageModel at 0x444610730>,\n",
       "  'processed_delta_model': <cosipy.image_deconvolution.allskyimage.AllSkyImageModel at 0x30ebcee90>,\n",
       "  'background_normalization': {'albedo': 0.9999260639703538},\n",
       "  'alpha': <Quantity 1.79121877>,\n",
       "  'loglikelihood': [-1678809.3175096312]},\n",
       " {'iteration': 17,\n",
       "  'model': <cosipy.image_deconvolution.allskyimage.AllSkyImageModel at 0x2b787f040>,\n",
       "  'delta_model': <cosipy.image_deconvolution.allskyimage.AllSkyImageModel at 0x2b787fc40>,\n",
       "  'processed_delta_model': <cosipy.image_deconvolution.allskyimage.AllSkyImageModel at 0x30ebcda20>,\n",
       "  'background_normalization': {'albedo': 0.9999259458568807},\n",
       "  'alpha': <Quantity 1.00563749>,\n",
       "  'loglikelihood': [-1678721.3843006236]},\n",
       " {'iteration': 18,\n",
       "  'model': <cosipy.image_deconvolution.allskyimage.AllSkyImageModel at 0x443c8e4d0>,\n",
       "  'delta_model': <cosipy.image_deconvolution.allskyimage.AllSkyImageModel at 0x1053c38e0>,\n",
       "  'processed_delta_model': <cosipy.image_deconvolution.allskyimage.AllSkyImageModel at 0x30ebceef0>,\n",
       "  'background_normalization': {'albedo': 0.9999259163711686},\n",
       "  'alpha': 1.0,\n",
       "  'loglikelihood': [-1678642.0598430093]},\n",
       " {'iteration': 19,\n",
       "  'model': <cosipy.image_deconvolution.allskyimage.AllSkyImageModel at 0x444612830>,\n",
       "  'delta_model': <cosipy.image_deconvolution.allskyimage.AllSkyImageModel at 0x444610970>,\n",
       "  'processed_delta_model': <cosipy.image_deconvolution.allskyimage.AllSkyImageModel at 0x30ebcd060>,\n",
       "  'background_normalization': {'albedo': 0.9999259054566617},\n",
       "  'alpha': 1.0,\n",
       "  'loglikelihood': [-1678569.819892738]},\n",
       " {'iteration': 20,\n",
       "  'model': <cosipy.image_deconvolution.allskyimage.AllSkyImageModel at 0x10577a800>,\n",
       "  'delta_model': <cosipy.image_deconvolution.allskyimage.AllSkyImageModel at 0x30ebcc0a0>,\n",
       "  'processed_delta_model': <cosipy.image_deconvolution.allskyimage.AllSkyImageModel at 0x30ebccdc0>,\n",
       "  'background_normalization': {'albedo': 0.9999259079653552},\n",
       "  'alpha': 1.0,\n",
       "  'loglikelihood': [-1678503.822796152]}]"
      ]
     },
     "execution_count": 28,
     "metadata": {},
     "output_type": "execute_result"
    }
   ],
   "source": [
    "image_deconvolution.results"
   ]
  },
  {
   "cell_type": "markdown",
   "id": "ed1e8893",
   "metadata": {},
   "source": [
    "# 5. Analyze the results\n",
    "Examples to see/analyze the results are shown below."
   ]
  },
  {
   "cell_type": "markdown",
   "id": "eef989ce",
   "metadata": {},
   "source": [
    "## Log-likelihood\n",
    "\n",
    "Plotting the log-likelihood vs the number of iterations"
   ]
  },
  {
   "cell_type": "code",
   "execution_count": 29,
   "id": "f96c2978",
   "metadata": {},
   "outputs": [
    {
     "data": {
      "text/plain": [
       "Text(0, 0.5, 'loglikelihood')"
      ]
     },
     "execution_count": 29,
     "metadata": {},
     "output_type": "execute_result"
    },
    {
     "data": {
      "image/png": "[encoded data removed]",
      "text/plain": [
       "<Figure size 640x480 with 1 Axes>"
      ]
     },
     "metadata": {},
     "output_type": "display_data"
    }
   ],
   "source": [
    "x, y = [], []\n",
    "\n",
    "for result in image_deconvolution.results:\n",
    "    x.append(result['iteration'])\n",
    "    y.append(result['loglikelihood'])\n",
    "    \n",
    "plt.plot(x, y)\n",
    "plt.grid()\n",
    "plt.xlabel(\"iteration\")\n",
    "plt.ylabel(\"loglikelihood\")"
   ]
  },
  {
   "cell_type": "markdown",
   "id": "5e58ab72",
   "metadata": {},
   "source": [
    "## Alpha (the factor used for the acceleration)\n",
    "\n",
    "Plotting $\\alpha$ vs the number of iterations. $\\alpha$ is a parameter to accelerate the EM algorithm (see the beginning of Section 4). If it is too large, reconstructed images may have artifacts."
   ]
  },
  {
   "cell_type": "code",
   "execution_count": 30,
   "id": "74e8bf4f",
   "metadata": {},
   "outputs": [
    {
     "data": {
      "text/plain": [
       "Text(0, 0.5, 'alpha')"
      ]
     },
     "execution_count": 30,
     "metadata": {},
     "output_type": "execute_result"
    },
    {
     "data": {
      "image/png": "[encoded data removed]",
      "text/plain": [
       "<Figure size 640x480 with 1 Axes>"
      ]
     },
     "metadata": {},
     "output_type": "display_data"
    }
   ],
   "source": [
    "x, y = [], []\n",
    "\n",
    "for result in image_deconvolution.results:\n",
    "    x.append(result['iteration'])\n",
    "    y.append(result['alpha'])\n",
    "    \n",
    "plt.plot(x, y)\n",
    "plt.grid()\n",
    "plt.xlabel(\"iteration\")\n",
    "plt.ylabel(\"alpha\")"
   ]
  },
  {
   "cell_type": "markdown",
   "id": "c49100a2",
   "metadata": {},
   "source": [
    "## Background normalization\n",
    "\n",
    "Plotting the background nomalization factor vs the number of iterations. If the background model is accurate and the image is reconstructed perfectly, this factor should be close to 1."
   ]
  },
  {
   "cell_type": "code",
   "execution_count": 31,
   "id": "f672d9cb",
   "metadata": {},
   "outputs": [
    {
     "data": {
      "text/plain": [
       "Text(0, 0.5, 'background_normalization')"
      ]
     },
     "execution_count": 31,
     "metadata": {},
     "output_type": "execute_result"
    },
    {
     "data": {
      "image/png": "[encoded data removed]",
      "text/plain": [
       "<Figure size 640x480 with 1 Axes>"
      ]
     },
     "metadata": {},
     "output_type": "display_data"
    }
   ],
   "source": [
    "x, y = [], []\n",
    "\n",
    "for result in image_deconvolution.results:\n",
    "    x.append(result['iteration'])\n",
    "    y.append(result['background_normalization']['albedo'])\n",
    "    \n",
    "plt.plot(x, y)\n",
    "plt.grid()\n",
    "plt.xlabel(\"iteration\")\n",
    "plt.ylabel(\"background_normalization\")"
   ]
  },
  {
   "cell_type": "markdown",
   "id": "0f6be4ef",
   "metadata": {},
   "source": [
    "## The reconstructed images"
   ]
  },
  {
   "cell_type": "code",
   "execution_count": 32,
   "id": "6a3118de",
   "metadata": {},
   "outputs": [],
   "source": [
    "def plot_reconstructed_image(result, source_position = None): # source_position should be (l,b) in degrees\n",
    "    iteration = result['iteration']\n",
    "    image = result['model']\n",
    "\n",
    "    for energy_index in range(image.axes['Ei'].nbins):\n",
    "        map_healpxmap = HealpixMap(data = image[:,energy_index], unit = image.unit)\n",
    "\n",
    "        _, ax = map_healpxmap.plot('mollview')        \n",
    "        \n",
    "        _.colorbar.set_label(str(image.unit))\n",
    "        \n",
    "        if source_position is not None:\n",
    "            ax.scatter(source_position[0]*u.deg, source_position[1]*u.deg, transform=ax.get_transform('world'), color = 'red')\n",
    "\n",
    "        plt.title(label = f\"iteration = {iteration}, energy_index = {energy_index} ({image.axes['Ei'].bounds[energy_index][0]}-{image.axes['Ei'].bounds[energy_index][1]})\")"
   ]
  },
  {
   "cell_type": "markdown",
   "id": "b8fa452b",
   "metadata": {},
   "source": [
    "Plotting the reconstructed images in all of the energy bands at the 20th iteration"
   ]
  },
  {
   "cell_type": "code",
   "execution_count": 33,
   "id": "e35ad147",
   "metadata": {},
   "outputs": [
    {
     "data": {
      "image/png": "[encoded data removed]",
      "text/plain": [
       "<Figure size 600x600 with 2 Axes>"
      ]
     },
     "metadata": {},
     "output_type": "display_data"
    }
   ],
   "source": [
    "iteration = 19\n",
    "\n",
    "plot_reconstructed_image(image_deconvolution.results[iteration])"
   ]
  },
  {
   "cell_type": "markdown",
   "id": "a5a240bc",
   "metadata": {},
   "source": [
    "An example to plot the image in the log scale"
   ]
  },
  {
   "cell_type": "code",
   "execution_count": 34,
   "id": "7bdcd79f",
   "metadata": {},
   "outputs": [
    {
     "data": {
      "image/png": "[encoded data removed]",
      "text/plain": [
       "<Figure size 850x540 with 2 Axes>"
      ]
     },
     "metadata": {},
     "output_type": "display_data"
    }
   ],
   "source": [
    "iteration_idx = 19\n",
    "\n",
    "result = image_deconvolution.results[iteration_idx]\n",
    "\n",
    "iteration = result['iteration']\n",
    "image = result['model']\n",
    "\n",
    "data = image[:,0]\n",
    "data[data <= 0 * data.unit] = 1e-12 * data.unit\n",
    "\n",
    "hp.mollview(data, min = 1e-5, norm ='log', unit = str(data.unit), title = f'511 keV image at {iteration}th iteration', cmap = 'magma')\n",
    "\n",
    "plt.show()"
   ]
  }
 ],
 "metadata": {
  "kernelspec": {
   "display_name": "Python 3 (ipykernel)",
   "language": "python",
   "name": "python3"
  },
  "language_info": {
   "codemirror_mode": {
    "name": "ipython",
    "version": 3
   },
   "file_extension": ".py",
   "mimetype": "text/x-python",
   "name": "python",
   "nbconvert_exporter": "python",
   "pygments_lexer": "ipython3",
   "version": "3.10.6"
  }
 },
 "nbformat": 4,
 "nbformat_minor": 5
}
