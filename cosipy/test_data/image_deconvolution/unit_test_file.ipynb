{
 "cells": [
  {
   "cell_type": "markdown",
   "id": "3edcfe0b-24d7-4321-b355-a6dc730c155d",
   "metadata": {
    "tags": []
   },
   "source": [
    "# Files for unit test"
   ]
  },
  {
   "cell_type": "code",
   "execution_count": 2,
   "id": "cc529e5f-09c0-40e0-a46c-2fbaf70b0eae",
   "metadata": {},
   "outputs": [],
   "source": [
    "import numpy as np\n",
    "import healpy as hp\n",
    "import astropy.units as u\n",
    "\n",
    "from histpy import Histogram\n",
    "\n",
    "from cosipy import test_data\n",
    "from cosipy.image_deconvolution import CoordsysConversionMatrix, SpacecraftAttitudeExposureTable, AllSkyImageModel, DataIF_COSI_DC2\n",
    "from cosipy.spacecraftfile import SpacecraftFile\n",
    "\n",
    "from cosipy.response import FullDetectorResponse"
   ]
  },
  {
   "cell_type": "code",
   "execution_count": 3,
   "id": "f4633506-e102-44bc-8478-c33f3d95902c",
   "metadata": {},
   "outputs": [],
   "source": [
    "nside = 1"
   ]
  },
  {
   "cell_type": "code",
   "execution_count": 4,
   "id": "9bb4ed7d-56d8-4b98-88fc-9ef7ae20dbdc",
   "metadata": {},
   "outputs": [
    {
     "data": {
      "text/plain": [
       "<cosipy.spacecraftfile.SpacecraftFile.SpacecraftFile at 0x1103bfeb0>"
      ]
     },
     "execution_count": 4,
     "metadata": {},
     "output_type": "execute_result"
    }
   ],
   "source": [
    "ori = SpacecraftFile.parse_from_file(test_data.path / \"20280301_first_10sec.ori\")\n",
    "ori"
   ]
  },
  {
   "cell_type": "markdown",
   "id": "db67d04a-7fb5-43ce-b603-48cf74f13aa1",
   "metadata": {},
   "source": [
    "# Exposure Table"
   ]
  },
  {
   "cell_type": "code",
   "execution_count": 41,
   "id": "9e590cff-f034-4726-8e15-94cff58b3ae2",
   "metadata": {},
   "outputs": [
    {
     "name": "stderr",
     "output_type": "stream",
     "text": [
      "\n",
      "WARNING ErfaWarning: ERFA function \"utctai\" yielded 1 of \"dubious year (Note 3)\"\n",
      "\n",
      "\n",
      "WARNING ErfaWarning: ERFA function \"utctai\" yielded 10 of \"dubious year (Note 3)\"\n",
      "\n"
     ]
    },
    {
     "data": {
      "application/vnd.jupyter.widget-view+json": {
       "model_id": "f50407bd751f4ec0a2a0e017cc7f93d6",
       "version_major": 2,
       "version_minor": 0
      },
      "text/plain": [
       "  0%|          | 0/10 [00:00<?, ?it/s]"
      ]
     },
     "metadata": {},
     "output_type": "display_data"
    },
    {
     "data": {
      "text/html": [
       "<div>\n",
       "<style scoped>\n",
       "    .dataframe tbody tr th:only-of-type {\n",
       "        vertical-align: middle;\n",
       "    }\n",
       "\n",
       "    .dataframe tbody tr th {\n",
       "        vertical-align: top;\n",
       "    }\n",
       "\n",
       "    .dataframe thead th {\n",
       "        text-align: right;\n",
       "    }\n",
       "</style>\n",
       "<table border=\"1\" class=\"dataframe\">\n",
       "  <thead>\n",
       "    <tr style=\"text-align: right;\">\n",
       "      <th></th>\n",
       "      <th>scatt_binning_index</th>\n",
       "      <th>healpix_index</th>\n",
       "      <th>zpointing</th>\n",
       "      <th>xpointing</th>\n",
       "      <th>zpointing_averaged</th>\n",
       "      <th>xpointing_averaged</th>\n",
       "      <th>delta_time</th>\n",
       "      <th>exposure</th>\n",
       "      <th>num_pointings</th>\n",
       "      <th>bkg_group</th>\n",
       "    </tr>\n",
       "  </thead>\n",
       "  <tbody>\n",
       "    <tr>\n",
       "      <th>0</th>\n",
       "      <td>0</td>\n",
       "      <td>(2, 0)</td>\n",
       "      <td>[[221.8702338996725, 16.87787163174393], [221....</td>\n",
       "      <td>[[41.87023389967253, 73.12212836825609], [41.8...</td>\n",
       "      <td>[221.97851537699194, 17.120386001590717]</td>\n",
       "      <td>[41.97917985691546, 72.87963751322992]</td>\n",
       "      <td>[0.9999999999969589, 0.9999999999969589, 1.000...</td>\n",
       "      <td>10.0</td>\n",
       "      <td>10</td>\n",
       "      <td>0</td>\n",
       "    </tr>\n",
       "  </tbody>\n",
       "</table>\n",
       "</div>"
      ],
      "text/plain": [
       "   scatt_binning_index healpix_index  \\\n",
       "0                    0        (2, 0)   \n",
       "\n",
       "                                           zpointing  \\\n",
       "0  [[221.8702338996725, 16.87787163174393], [221....   \n",
       "\n",
       "                                           xpointing  \\\n",
       "0  [[41.87023389967253, 73.12212836825609], [41.8...   \n",
       "\n",
       "                         zpointing_averaged  \\\n",
       "0  [221.97851537699194, 17.120386001590717]   \n",
       "\n",
       "                       xpointing_averaged  \\\n",
       "0  [41.97917985691546, 72.87963751322992]   \n",
       "\n",
       "                                          delta_time  exposure  num_pointings  \\\n",
       "0  [0.9999999999969589, 0.9999999999969589, 1.000...      10.0             10   \n",
       "\n",
       "   bkg_group  \n",
       "0          0  "
      ]
     },
     "execution_count": 41,
     "metadata": {},
     "output_type": "execute_result"
    }
   ],
   "source": [
    "nside = 1\n",
    "\n",
    "exposure_table = SpacecraftAttitudeExposureTable.from_orientation(ori, nside=nside, start=ori.get_time()[0], stop=ori.get_time()[-1], min_exposure=0, min_num_pointings=1)\n",
    "\n",
    "exposure_table"
   ]
  },
  {
   "cell_type": "code",
   "execution_count": 6,
   "id": "b24c02cb-857e-4590-b2a4-0989f013db6b",
   "metadata": {},
   "outputs": [],
   "source": [
    "exposure_table.to_pickle(test_data.path / \"image_deconvolution\" / \"exposure_table_test_nside1_ring.pickle\")"
   ]
  },
  {
   "cell_type": "code",
   "execution_count": 7,
   "id": "6e214541-10a6-425e-a0aa-3bdf7e6c5867",
   "metadata": {},
   "outputs": [],
   "source": [
    "exposure_table.save_as_fits(test_data.path / \"image_deconvolution\" / \"exposure_table_test_nside1_ring.fits\")"
   ]
  },
  {
   "cell_type": "code",
   "execution_count": 8,
   "id": "f2ab176d-3a59-45ff-9454-16d564eea6dc",
   "metadata": {},
   "outputs": [],
   "source": [
    "map_pointing_zx = exposure_table.calc_pointing_trajectory_map()"
   ]
  },
  {
   "cell_type": "code",
   "execution_count": 9,
   "id": "fcca78c3-e955-459f-839a-b1ff61886b83",
   "metadata": {},
   "outputs": [],
   "source": [
    "map_pointing_zx.write(test_data.path / \"image_deconvolution\" / \"map_pointing_zx_test_nside1_ring.hdf5\")"
   ]
  },
  {
   "cell_type": "code",
   "execution_count": 10,
   "id": "14f4860a-e3c5-43fa-a9b2-198ae7cfcb8d",
   "metadata": {},
   "outputs": [
    {
     "data": {
      "image/png": "[encoded data removed]",
      "text/plain": [
       "<Figure size 850x540 with 2 Axes>"
      ]
     },
     "metadata": {},
     "output_type": "display_data"
    }
   ],
   "source": [
    "hp.mollview(map_pointing_zx.contents[:,0].todense())"
   ]
  },
  {
   "cell_type": "markdown",
   "id": "b412eb40-302d-4f3c-a179-699e625d6430",
   "metadata": {},
   "source": [
    "# CoordsysConversionMatrix using time bins"
   ]
  },
  {
   "cell_type": "code",
   "execution_count": 11,
   "id": "e1bc297b-f60b-4abb-9e83-b126b2af9b18",
   "metadata": {},
   "outputs": [],
   "source": [
    "full_detector_response = FullDetectorResponse.open(test_data.path / \"test_full_detector_response.h5\")"
   ]
  },
  {
   "cell_type": "code",
   "execution_count": 12,
   "id": "468910b1-6101-4ee1-aaa6-973136f75432",
   "metadata": {},
   "outputs": [
    {
     "data": {
      "text/plain": [
       "FILENAME: '/Users/yoneda/Work/Exp/COSI/cosipy-2/soft/cosipy/cosipy/test_data/test_full_detector_response.h5'\n",
       "AXES:\n",
       "  NuLambda:\n",
       "    DESCRIPTION: 'Location of the simulated source in the spacecraft coordinates'\n",
       "    TYPE: 'healpix'\n",
       "    NPIX: 12\n",
       "    NSIDE: 1\n",
       "    SCHEME: 'RING'\n",
       "  Ei:\n",
       "    DESCRIPTION: 'Initial simulated energy'\n",
       "    TYPE: 'log'\n",
       "    UNIT: 'keV'\n",
       "    NBINS: 10\n",
       "    EDGES: [150.0 keV, 220.0 keV, 325.0 keV, 480.0 keV, 520.0 keV, 765.0 keV, 1120.0 keV, 1650.0 keV, 2350.0 keV, 3450.0 keV, 5000.0 keV]\n",
       "  Em:\n",
       "    DESCRIPTION: 'Measured energy'\n",
       "    TYPE: 'log'\n",
       "    UNIT: 'keV'\n",
       "    NBINS: 10\n",
       "    EDGES: [150.0 keV, 220.0 keV, 325.0 keV, 480.0 keV, 520.0 keV, 765.0 keV, 1120.0 keV, 1650.0 keV, 2350.0 keV, 3450.0 keV, 5000.0 keV]\n",
       "  Phi:\n",
       "    DESCRIPTION: 'Compton angle'\n",
       "    TYPE: 'linear'\n",
       "    UNIT: 'deg'\n",
       "    NBINS: 30\n",
       "    EDGES: [0.0 deg, 6.0 deg, 12.0 deg, 18.0 deg, 24.0 deg, 30.0 deg, 36.0 deg, 42.0 deg, 48.0 deg, 54.0 deg, 60.0 deg, 66.0 deg, 72.0 deg, 78.0 deg, 84.0 deg, 90.0 deg, 96.0 deg, 102.0 deg, 108.0 deg, 114.0 deg, 120.0 deg, 126.0 deg, 132.0 deg, 138.0 deg, 144.0 deg, 150.0 deg, 156.0 deg, 162.0 deg, 168.0 deg, 174.0 deg, 180.0 deg]\n",
       "  PsiChi:\n",
       "    DESCRIPTION: 'Location in the Compton Data Space'\n",
       "    TYPE: 'healpix'\n",
       "    NPIX: 12\n",
       "    NSIDE: 1\n",
       "    SCHEME: 'RING'\n",
       "  SigmaTau:\n",
       "    DESCRIPTION: 'Electron recoil angle'\n",
       "    TYPE: 'healpix'\n",
       "    NPIX: 12\n",
       "    NSIDE: 1\n",
       "    SCHEME: 'RING'\n",
       "  Dist:\n",
       "    DESCRIPTION: 'Distance from first interaction'\n",
       "    TYPE: 'linear'\n",
       "    UNIT: 'cm'\n",
       "    NBINS: 1\n",
       "    EDGES: [0.0 cm, 1000.0 cm]\n"
      ]
     },
     "execution_count": 12,
     "metadata": {},
     "output_type": "execute_result"
    }
   ],
   "source": [
    "full_detector_response"
   ]
  },
  {
   "cell_type": "code",
   "execution_count": 13,
   "id": "73f4c9db-5635-4b34-80b0-8e837e47aec9",
   "metadata": {},
   "outputs": [
    {
     "data": {
      "application/vnd.jupyter.widget-view+json": {
       "model_id": "5b83b63034d74b0f922a430987d761ed",
       "version_major": 2,
       "version_minor": 0
      },
      "text/plain": [
       "  0%|          | 0/1 [00:00<?, ?it/s]"
      ]
     },
     "metadata": {},
     "output_type": "display_data"
    }
   ],
   "source": [
    "ccm = CoordsysConversionMatrix.time_binning_ccm(full_detector_response, ori, [ori.get_time()[0].value, ori.get_time()[-1].value] * u.s)"
   ]
  },
  {
   "cell_type": "code",
   "execution_count": 14,
   "id": "a6a82e0e-6cae-479c-9980-cfcf36bd8375",
   "metadata": {},
   "outputs": [
    {
     "data": {
      "text/latex": [
       "$[1.835478 \\times 10^{9},~1.835478 \\times 10^{9}] \\; \\mathrm{s}$"
      ],
      "text/plain": [
       "<Quantity [1.83547800e+09, 1.83547801e+09] s>"
      ]
     },
     "execution_count": 14,
     "metadata": {},
     "output_type": "execute_result"
    }
   ],
   "source": [
    "ccm.axes['Time'].edges"
   ]
  },
  {
   "cell_type": "code",
   "execution_count": 15,
   "id": "b4a8cfc8-bf4c-4f78-9b61-f0bf7d7deb9b",
   "metadata": {},
   "outputs": [],
   "source": [
    "ccm.write(test_data.path / \"image_deconvolution\" / 'ccm_time_test.hdf5')"
   ]
  },
  {
   "cell_type": "markdown",
   "id": "6f76e01b-41e2-48b9-b0af-157a97574fda",
   "metadata": {},
   "source": [
    "# CoordsysConversionMatrix using ScAtt bins"
   ]
  },
  {
   "cell_type": "code",
   "execution_count": 16,
   "id": "8f26458b-21ed-4a48-9df5-796ebc99abee",
   "metadata": {},
   "outputs": [
    {
     "data": {
      "application/vnd.jupyter.widget-view+json": {
       "model_id": "af45ace2c7c245f7adb34d7ac830916e",
       "version_major": 2,
       "version_minor": 0
      },
      "text/plain": [
       "  0%|          | 0/1 [00:00<?, ?it/s]"
      ]
     },
     "metadata": {},
     "output_type": "display_data"
    }
   ],
   "source": [
    "ccm = CoordsysConversionMatrix.spacecraft_attitude_binning_ccm(full_detector_response, exposure_table)"
   ]
  },
  {
   "cell_type": "code",
   "execution_count": 17,
   "id": "3af3b01a-0c71-44f2-96cb-8734c9034da7",
   "metadata": {},
   "outputs": [
    {
     "data": {
      "application/vnd.jupyter.widget-view+json": {
       "model_id": "20db8985d79748e7a3106ecff92d080b",
       "version_major": 2,
       "version_minor": 0
      },
      "text/plain": [
       "  0%|          | 0/1 [00:00<?, ?it/s]"
      ]
     },
     "metadata": {},
     "output_type": "display_data"
    }
   ],
   "source": [
    "ccm_use_averaged_pointing = CoordsysConversionMatrix.spacecraft_attitude_binning_ccm(full_detector_response, exposure_table, use_averaged_pointing = True)"
   ]
  },
  {
   "cell_type": "code",
   "execution_count": 18,
   "id": "5d12b35d-4761-48f7-814c-2ab5a341e695",
   "metadata": {},
   "outputs": [],
   "source": [
    "ccm.write(test_data.path / \"image_deconvolution\" / 'ccm_scatt_use_averaged_pointing_False_test.hdf5')"
   ]
  },
  {
   "cell_type": "code",
   "execution_count": 19,
   "id": "293b388d-dd90-4143-b9cc-82bb24f92054",
   "metadata": {},
   "outputs": [],
   "source": [
    "ccm_use_averaged_pointing.write(test_data.path / \"image_deconvolution\" / 'ccm_scatt_use_averaged_pointing_True_test.hdf5')"
   ]
  },
  {
   "cell_type": "markdown",
   "id": "fbb52ed7-bb72-4868-8092-090e871eb2a1",
   "metadata": {},
   "source": [
    "# AllSkyImageModel"
   ]
  },
  {
   "cell_type": "code",
   "execution_count": 20,
   "id": "6527efe2-d99a-4f1c-9a9b-640b3f7e9ea7",
   "metadata": {},
   "outputs": [],
   "source": [
    "model = AllSkyImageModel(nside = nside, energy_edges = [100.0, 1000.0] * u.keV)\n",
    "model[:] = 1.0 / u.s / u.sr / u.cm**2"
   ]
  },
  {
   "cell_type": "code",
   "execution_count": 21,
   "id": "f21ac2a8-1cc6-4e87-874e-8a1173695de4",
   "metadata": {},
   "outputs": [],
   "source": [
    "model.write(test_data.path / \"image_deconvolution\" / 'all_sky_image_model_test_nside1.hdf5')"
   ]
  },
  {
   "cell_type": "code",
   "execution_count": null,
   "id": "c99721dc-3900-4947-be8f-1450cbc0f212",
   "metadata": {},
   "outputs": [],
   "source": []
  },
  {
   "cell_type": "markdown",
   "id": "3dc0f84d-8c2c-4ac0-9710-4baa2b6061c6",
   "metadata": {},
   "source": [
    "# Histogram in ScAtt Binning"
   ]
  },
  {
   "cell_type": "code",
   "execution_count": 42,
   "id": "6db2da8d-f48c-4d57-ab5a-4d93f9406b6d",
   "metadata": {},
   "outputs": [],
   "source": [
    "from cosipy import response\n",
    "from cosipy import test_data\n",
    "from cosipy import BinnedData\n",
    "from histpy import Histogram, Axes, Axis, HealpixAxis\n",
    "from scoords import Attitude, SpacecraftFrame\n",
    "from astropy.coordinates import SkyCoord, ICRS, Galactic, FK4, FK5\n",
    "import astropy.units as u\n",
    "import numpy as np\n",
    "import healpy as hp"
   ]
  },
  {
   "cell_type": "code",
   "execution_count": 43,
   "id": "2ffb0184-2629-48fd-a4ca-77fe5929cd82",
   "metadata": {
    "scrolled": true
   },
   "outputs": [
    {
     "data": {
      "text/plain": [
       "FILENAME: '/Users/yoneda/Work/Exp/COSI/cosipy-2/soft/cosipy/cosipy/test_data/test_full_detector_response.h5'\n",
       "AXES:\n",
       "  NuLambda:\n",
       "    DESCRIPTION: 'Location of the simulated source in the spacecraft coordinates'\n",
       "    TYPE: 'healpix'\n",
       "    NPIX: 12\n",
       "    NSIDE: 1\n",
       "    SCHEME: 'RING'\n",
       "  Ei:\n",
       "    DESCRIPTION: 'Initial simulated energy'\n",
       "    TYPE: 'log'\n",
       "    UNIT: 'keV'\n",
       "    NBINS: 10\n",
       "    EDGES: [150.0 keV, 220.0 keV, 325.0 keV, 480.0 keV, 520.0 keV, 765.0 keV, 1120.0 keV, 1650.0 keV, 2350.0 keV, 3450.0 keV, 5000.0 keV]\n",
       "  Em:\n",
       "    DESCRIPTION: 'Measured energy'\n",
       "    TYPE: 'log'\n",
       "    UNIT: 'keV'\n",
       "    NBINS: 10\n",
       "    EDGES: [150.0 keV, 220.0 keV, 325.0 keV, 480.0 keV, 520.0 keV, 765.0 keV, 1120.0 keV, 1650.0 keV, 2350.0 keV, 3450.0 keV, 5000.0 keV]\n",
       "  Phi:\n",
       "    DESCRIPTION: 'Compton angle'\n",
       "    TYPE: 'linear'\n",
       "    UNIT: 'deg'\n",
       "    NBINS: 30\n",
       "    EDGES: [0.0 deg, 6.0 deg, 12.0 deg, 18.0 deg, 24.0 deg, 30.0 deg, 36.0 deg, 42.0 deg, 48.0 deg, 54.0 deg, 60.0 deg, 66.0 deg, 72.0 deg, 78.0 deg, 84.0 deg, 90.0 deg, 96.0 deg, 102.0 deg, 108.0 deg, 114.0 deg, 120.0 deg, 126.0 deg, 132.0 deg, 138.0 deg, 144.0 deg, 150.0 deg, 156.0 deg, 162.0 deg, 168.0 deg, 174.0 deg, 180.0 deg]\n",
       "  PsiChi:\n",
       "    DESCRIPTION: 'Location in the Compton Data Space'\n",
       "    TYPE: 'healpix'\n",
       "    NPIX: 12\n",
       "    NSIDE: 1\n",
       "    SCHEME: 'RING'\n",
       "  SigmaTau:\n",
       "    DESCRIPTION: 'Electron recoil angle'\n",
       "    TYPE: 'healpix'\n",
       "    NPIX: 12\n",
       "    NSIDE: 1\n",
       "    SCHEME: 'RING'\n",
       "  Dist:\n",
       "    DESCRIPTION: 'Distance from first interaction'\n",
       "    TYPE: 'linear'\n",
       "    UNIT: 'cm'\n",
       "    NBINS: 1\n",
       "    EDGES: [0.0 cm, 1000.0 cm]\n"
      ]
     },
     "execution_count": 43,
     "metadata": {},
     "output_type": "execute_result"
    }
   ],
   "source": [
    "full_detector_response = response.FullDetectorResponse.open(test_data.path / \"test_full_detector_response.h5\")\n",
    "full_detector_response"
   ]
  },
  {
   "cell_type": "code",
   "execution_count": 44,
   "id": "ec19c480-dea1-43a7-92bd-13b7a7789cdc",
   "metadata": {},
   "outputs": [
    {
     "data": {
      "text/plain": [
       "<cosipy.data_io.BinnedData.BinnedData at 0x2ba45ab90>"
      ]
     },
     "execution_count": 44,
     "metadata": {},
     "output_type": "execute_result"
    }
   ],
   "source": [
    "analysis = BinnedData(test_data.path / \"inputs_crab.yaml\")\n",
    "analysis"
   ]
  },
  {
   "cell_type": "code",
   "execution_count": 45,
   "id": "7ffd1dc4-2671-406d-8f78-fe2ee1c23872",
   "metadata": {},
   "outputs": [],
   "source": [
    "analysis.energy_bins = full_detector_response.axes['Em'].edges.to(u.keV).value\n",
    "analysis.nside = full_detector_response.axes['PsiChi'].nside\n",
    "\n",
    "assert np.all(full_detector_response.axes['Phi'].widths == full_detector_response.axes['Phi'].widths[0]) == True\n",
    "\n",
    "analysis.phi_pix_size = full_detector_response.axes['Phi'].widths[0].to(u.deg).value\n",
    "\n",
    "analysis.time_bins = 10 #s"
   ]
  },
  {
   "cell_type": "code",
   "execution_count": 50,
   "id": "81c4357e-add1-4840-a204-8ba38a026641",
   "metadata": {},
   "outputs": [],
   "source": [
    "def get_binned_data_scatt(unbinned_event, exposure_table, psichi_binning = 'local', sparse = False):\n",
    "    exposure_dict = {row['healpix_index']: row['scatt_binning_index'] for _, row in exposure_table.iterrows()}\n",
    "        \n",
    "    # from BinnedData.py\n",
    " \n",
    "    # Get energy bins:\n",
    "    energy_bin_edges = np.array(unbinned_event.energy_bins)\n",
    "    \n",
    "    # Get phi bins:\n",
    "    number_phi_bins = int(180./unbinned_event.phi_pix_size)\n",
    "    phi_bin_edges = np.linspace(0,180,number_phi_bins+1)\n",
    "    \n",
    "    # Define psichi axis and data for binning:\n",
    "    if psichi_binning == 'galactic':\n",
    "        psichi_axis = HealpixAxis(nside = unbinned_event.nside, scheme = unbinned_event.scheme, coordsys = 'galactic', label='PsiChi')\n",
    "        coords = SkyCoord(l=unbinned_event.cosi_dataset['Chi galactic']*u.deg, b=unbinned_event.cosi_dataset['Psi galactic']*u.deg, frame = 'galactic')\n",
    "    if psichi_binning == 'local':\n",
    "        psichi_axis = HealpixAxis(nside = unbinned_event.nside, scheme = unbinned_event.scheme, coordsys = SpacecraftFrame(), label='PsiChi')\n",
    "        coords = SkyCoord(lon=unbinned_event.cosi_dataset['Chi local']*u.rad, lat=((np.pi/2.0) - unbinned_event.cosi_dataset['Psi local'])*u.rad, frame = SpacecraftFrame())\n",
    "\n",
    "    # Define scatt axis and data for binning\n",
    "    n_scatt_bins = len(exposure_table)\n",
    "    scatt_axis = Axis(np.arange(n_scatt_bins + 1), label='ScAtt')\n",
    "    \n",
    "    is_nest = True if exposure_table.scheme == 'nested' else False\n",
    "    \n",
    "    nside_scatt = exposure_table.nside\n",
    "    \n",
    "#    zindex = hp.ang2pix(nside_scatt, unbinned_event.cosi_dataset['Zpointings (glon,glat)'].T[0] * 180 / np.pi, \n",
    "#                        unbinned_event.cosi_dataset['Zpointings (glon,glat)'].T[1] * 180 / np.pi, nest=is_nest, lonlat=True)\n",
    "#    xindex = hp.ang2pix(nside_scatt, unbinned_event.cosi_dataset['Xpointings (glon,glat)'].T[0] * 180 / np.pi, \n",
    "#                        unbinned_event.cosi_dataset['Xpointings (glon,glat)'].T[1] * 180 / np.pi, nest=is_nest, lonlat=True)    \n",
    "#    scatt_data = np.array( [ exposure_dict[(z, x)] + 0.5 if (z,x) in exposure_dict.keys() else -1 for z, x in zip(zindex, xindex)] ) # should this \"0.5\" be needed?\n",
    "\n",
    "    # NOTE: test_data.path / \"unbinned_data_MEGAlib_calc.hdf5\" is written in a old format!!!\n",
    "    zindex = hp.ang2pix(nside_scatt, unbinned_event.cosi_dataset['Zpointings'].T[0] * 180 / np.pi, \n",
    "                        unbinned_event.cosi_dataset['Zpointings'].T[1] * 180 / np.pi, nest=is_nest, lonlat=True)\n",
    "    xindex = hp.ang2pix(nside_scatt, unbinned_event.cosi_dataset['Xpointings'].T[0] * 180 / np.pi, \n",
    "                        unbinned_event.cosi_dataset['Xpointings'].T[1] * 180 / np.pi, nest=is_nest, lonlat=True)    \n",
    "    scatt_data = np.array( [ exposure_dict[(z, x)] + 0.5 if (z,x) in exposure_dict.keys() else -1 for z, x in zip(zindex, xindex)] ) # should this \"0.5\" be needed?\n",
    "    \n",
    "    # Initialize histogram:\n",
    "    binned_data = Histogram([scatt_axis,\n",
    "                              Axis(energy_bin_edges*u.keV, label='Em'),\n",
    "                              Axis(phi_bin_edges*u.deg, label='Phi'),\n",
    "                              psichi_axis],\n",
    "                              sparse=sparse)\n",
    "\n",
    "    # Fill histogram:\n",
    "    binned_data.fill(scatt_data, unbinned_event.cosi_dataset['Energies']*u.keV, np.rad2deg(unbinned_event.cosi_dataset['Phi'])*u.deg, coords)    \n",
    "    \n",
    "    return binned_data"
   ]
  },
  {
   "cell_type": "code",
   "execution_count": 51,
   "id": "5b543088-3627-41cb-b627-3c0a7f7ec862",
   "metadata": {},
   "outputs": [],
   "source": [
    "analysis.cosi_dataset = analysis.get_dict_from_hdf5(test_data.path / \"unbinned_data_MEGAlib_calc.hdf5\")"
   ]
  },
  {
   "cell_type": "code",
   "execution_count": 54,
   "id": "fe23d4d5-4e61-4433-aad3-b40331c837dd",
   "metadata": {},
   "outputs": [],
   "source": [
    "binned_signal = get_binned_data_scatt(analysis, exposure_table, psichi_binning = 'local', sparse = False)"
   ]
  },
  {
   "cell_type": "code",
   "execution_count": 56,
   "id": "ac5ea70c-c230-4d71-8a2e-14fdf30b488a",
   "metadata": {},
   "outputs": [],
   "source": [
    "binned_signal.write(test_data.path / \"image_deconvolution\" / 'test_event_histogram_localCDS_scatt.h5')"
   ]
  },
  {
   "cell_type": "code",
   "execution_count": null,
   "id": "809d59dd-403d-4731-b113-a0a1ab685b61",
   "metadata": {},
   "outputs": [],
   "source": []
  }
 ],
 "metadata": {
  "kernelspec": {
   "display_name": "Python 3 (ipykernel)",
   "language": "python",
   "name": "python3"
  },
  "language_info": {
   "codemirror_mode": {
    "name": "ipython",
    "version": 3
   },
   "file_extension": ".py",
   "mimetype": "text/x-python",
   "name": "python",
   "nbconvert_exporter": "python",
   "pygments_lexer": "ipython3",
   "version": "3.10.6"
  }
 },
 "nbformat": 4,
 "nbformat_minor": 5
}
